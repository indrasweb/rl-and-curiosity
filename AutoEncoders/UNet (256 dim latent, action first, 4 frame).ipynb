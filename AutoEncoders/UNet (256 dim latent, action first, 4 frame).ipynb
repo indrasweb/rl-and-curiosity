{
 "cells": [
  {
   "cell_type": "code",
   "execution_count": null,
   "metadata": {
    "colab": {
     "base_uri": "https://localhost:8080/",
     "height": 496
    },
    "colab_type": "code",
    "executionInfo": {
     "elapsed": 7787,
     "status": "ok",
     "timestamp": 1582382906725,
     "user": {
      "displayName": "harry songhurst",
      "photoUrl": "",
      "userId": "00629498674930426914"
     },
     "user_tz": 0
    },
    "id": "MiWy-wSlg65h",
    "outputId": "20199b7d-368f-4e11-d870-7791cd5bf10c"
   },
   "outputs": [],
   "source": [
    "!pip install stable-baselines==2.9.0"
   ]
  },
  {
   "cell_type": "code",
   "execution_count": null,
   "metadata": {
    "colab": {
     "base_uri": "https://localhost:8080/",
     "height": 199
    },
    "colab_type": "code",
    "executionInfo": {
     "elapsed": 13946,
     "status": "ok",
     "timestamp": 1582382913435,
     "user": {
      "displayName": "harry songhurst",
      "photoUrl": "",
      "userId": "00629498674930426914"
     },
     "user_tz": 0
    },
    "id": "dZmBmHSCwNRk",
    "outputId": "a71b4e3b-55b8-4620-c889-94a09d66918f"
   },
   "outputs": [],
   "source": [
    "import numpy as np\n",
    "\n",
    "import datetime\n",
    "import time\n",
    "from collections import deque\n",
    "\n",
    "import torch as T\n",
    "import torch.nn as nn\n",
    "from torch.autograd import Variable\n",
    "from torch.optim import Adam\n",
    "from torch.distributions import Categorical\n",
    "from torch.optim.lr_scheduler import LambdaLR\n",
    "from torchsummary import summary\n",
    "\n",
    "from stable_baselines.common.misc_util import set_global_seeds\n",
    "from stable_baselines.common.cmd_util import make_atari_env\n",
    "from stable_baselines.common.vec_env import VecFrameStack\n",
    "\n",
    "import matplotlib.pyplot as plt\n",
    "import seaborn as sns"
   ]
  },
  {
   "cell_type": "code",
   "execution_count": null,
   "metadata": {
    "colab": {
     "base_uri": "https://localhost:8080/",
     "height": 71
    },
    "colab_type": "code",
    "executionInfo": {
     "elapsed": 13480,
     "status": "ok",
     "timestamp": 1582382913436,
     "user": {
      "displayName": "harry songhurst",
      "photoUrl": "",
      "userId": "00629498674930426914"
     },
     "user_tz": 0
    },
    "id": "ovKc19B7wQSv",
    "outputId": "f8eadd24-88f3-43dc-e051-4ad77250b740"
   },
   "outputs": [],
   "source": [
    "ENV_NAME = 'BreakoutNoFrameskip-v4'\n",
    "NENV = 8\n",
    "ROLLOUT_LENGTH = 128\n",
    "LATENT_SIZE = 256\n",
    "MB_SPLIT = 4\n",
    "MB_EPOCHS = 4\n",
    "TOTAL_TIMESTEPS = 5e6\n",
    "GAMMA = 0.99\n",
    "CLIP = 0.2\n",
    "DEVICE = T.device('cuda' if T.cuda.is_available() else 'cpu')\n",
    "SEED = 420 \n",
    "set_global_seeds(SEED)\n",
    "sns.set()  # make it pretty"
   ]
  },
  {
   "cell_type": "markdown",
   "metadata": {
    "colab_type": "text",
    "id": "PNveivUPBrGP"
   },
   "source": [
    "# Environment"
   ]
  },
  {
   "cell_type": "code",
   "execution_count": 0,
   "metadata": {
    "colab": {
     "base_uri": "https://localhost:8080/",
     "height": 51
    },
    "colab_type": "code",
    "executionInfo": {
     "elapsed": 16130,
     "status": "ok",
     "timestamp": 1582382917053,
     "user": {
      "displayName": "harry songhurst",
      "photoUrl": "",
      "userId": "00629498674930426914"
     },
     "user_tz": 0
    },
    "id": "DqEfdOszQ9kw",
    "outputId": "0b5c441b-0ce9-4a49-970e-c6b34cd098f4"
   },
   "outputs": [
    {
     "name": "stdout",
     "output_type": "stream",
     "text": [
      "Observation shape:  (4, 84, 84)\n",
      "Number of actions:  4\n"
     ]
    }
   ],
   "source": [
    "env = make_atari_env(ENV_NAME, num_env=NENV, seed=SEED)\n",
    "env = VecFrameStack(env, n_stack=4)\n",
    "\n",
    "in_dim = env.observation_space.shape\n",
    "in_dim=(in_dim[2],in_dim[0],in_dim[1])  # torch ordering\n",
    "num_actions = env.action_space.n\n",
    "\n",
    "print('Observation shape: ', in_dim)\n",
    "print('Number of actions: ', num_actions)"
   ]
  },
  {
   "cell_type": "markdown",
   "metadata": {
    "colab_type": "text",
    "id": "Z0VaLTiryZut"
   },
   "source": [
    "# CNNs"
   ]
  },
  {
   "cell_type": "code",
   "execution_count": 0,
   "metadata": {
    "colab": {},
    "colab_type": "code",
    "id": "NBln27mj6Yw4"
   },
   "outputs": [],
   "source": [
    "def conv_size(net, in_shape):\n",
    "    \"\"\" util for calculating flat output shape of a given net \"\"\"\n",
    "    x = Variable(T.rand(1, *in_shape))\n",
    "    o = net(x)\n",
    "    b = (-1, o.size(1), o.size(2), o.size(3))\n",
    "    return b, o.data.view(1, -1).size(1)"
   ]
  },
  {
   "cell_type": "code",
   "execution_count": 0,
   "metadata": {
    "colab": {},
    "colab_type": "code",
    "id": "GOz44BriuvHP"
   },
   "outputs": [],
   "source": [
    "def ConvReLU_down(in_channels, out_channels, kernel, stride):\n",
    "    return nn.Sequential(\n",
    "        nn.Conv2d(in_channels, out_channels, kernel, stride),\n",
    "        nn.ReLU(inplace=True),\n",
    "    )\n",
    "\n",
    "def ConvReLU_up(in_channels, out_channels, kernel, stride):\n",
    "    return nn.Sequential(\n",
    "        nn.ConvTranspose2d(in_channels, out_channels, kernel, stride),\n",
    "        nn.ReLU(inplace=True)\n",
    "    )\n",
    "\n",
    "class UNet(nn.Module):\n",
    "    \"\"\" This is used to *represent* the environment (perception).\n",
    "        The latent space of this autoencoder is uni-dimensional.\n",
    "    \"\"\"\n",
    "    def __init__(self, input_shape, num_actions, latent_size):\n",
    "        super().__init__()\n",
    "        self.c, self.h, self.w = input_shape\n",
    "        self.num_actions = num_actions\n",
    "        self.latent_size = latent_size\n",
    "\n",
    "        self.down_1 = ConvReLU_down(self.c, 64, 8, 4)\n",
    "        self.down_2 = ConvReLU_down(64, 32, 4, 2)\n",
    "        self.down_3 = ConvReLU_down(32, 16, 4, 1)\n",
    "\n",
    "        encoder_conv = nn.Sequential(self.down_1, self.down_2, self.down_3)\n",
    "        self.conv_x, self.conv_f = conv_size(encoder_conv, input_shape)\n",
    "\n",
    "        self.down_linear = nn.Sequential(\n",
    "            nn.Flatten(),\n",
    "            nn.Linear(self.conv_f, self.latent_size)\n",
    "        )\n",
    "\n",
    "        self.up_linear = nn.Sequential(\n",
    "            nn.Linear(self.latent_size, self.conv_f),\n",
    "            nn.ReLU(True)\n",
    "        )\n",
    "\n",
    "        self.up_3 = ConvReLU_up(16*2+self.num_actions, 32, 4, 1)\n",
    "        self.up_2 = ConvReLU_up(32*2, 64, 4, 2)\n",
    "        self.up_1 = nn.ConvTranspose2d(64*2, self.c, 8, 4)\n",
    "\n",
    "    def encode(self, x):\n",
    "        \"\"\" *represent* the environment in latent space\"\"\"\n",
    "        x = self.down_1(x)\n",
    "        x = self.down_2(x)\n",
    "        x = self.down_3(x)\n",
    "        x = self.down_linear(x)\n",
    "        return x  # latent code\n",
    "\n",
    "    def one_hot_3d_action(self, actions):\n",
    "        _,_,ch,cw = self.conv_x\n",
    "        cn = len(actions)\n",
    "        z = np.zeros((len(actions), self.num_actions, ch, cw), dtype=np.float32)\n",
    "        for i in range(cn):\n",
    "            z[i,actions[i],:,:] = 1.0\n",
    "        z = T.from_numpy(z).to(DEVICE)\n",
    "        return z\n",
    "\n",
    "    def forward(self, x, actions=None):\n",
    "        \"\"\" actions is a list of ints describing the actions taken \"\"\"\n",
    "        d1 = self.down_1(x)\n",
    "        d2 = self.down_2(d1)\n",
    "        d3 = self.down_3(d2)\n",
    "        latent = self.down_linear(d3)\n",
    "        \n",
    "        x = self.up_linear(latent)        \n",
    "        x = x.view(self.conv_x)\n",
    "        # cat contractive path\n",
    "        x = T.cat((x, d3), dim=1)\n",
    "        # add information about which action we took\n",
    "        if actions is None:  # for torchsummary\n",
    "            z_action = self.one_hot_3d_action([0]*x.size(0))\n",
    "        else:\n",
    "            z_action = self.one_hot_3d_action(actions)\n",
    "        x = T.cat((x, z_action), dim=1)\n",
    "\n",
    "        x = self.up_3(x)\n",
    "        x = T.cat((x, d2), dim=1)\n",
    "        x = self.up_2(x)\n",
    "        x = T.cat((x, d1), dim=1)\n",
    "        x = self.up_1(x)\n",
    "\n",
    "        return x, latent"
   ]
  },
  {
   "cell_type": "code",
   "execution_count": 0,
   "metadata": {
    "colab": {},
    "colab_type": "code",
    "id": "LTuW2HWsuFs6"
   },
   "outputs": [],
   "source": [
    "class ACTOR(nn.Module):\n",
    "    \"\"\" This is used to learn *behaviour* from our environment representation.\n",
    "        ActorCriticCritic uses two value heads/critics. One criticises the \n",
    "        extrinsic reward. The other criticises the intrinsic reward.\n",
    "    \"\"\"\n",
    "    def __init__(self, num_inputs, num_actions):\n",
    "        super().__init__()\n",
    "\n",
    "        self.linear = nn.Sequential(\n",
    "            nn.Linear(num_inputs, 1024),\n",
    "            nn.ReLU(True),\n",
    "            nn.Linear(1024, 512),\n",
    "            nn.ReLU(True)\n",
    "        )\n",
    "\n",
    "        self.actor = nn.Linear(512, num_actions)\n",
    "\n",
    "    def forward(self, x):\n",
    "        x = self.linear(x)\n",
    "        return self.actor(x)\n",
    "\n",
    "class CRITIC(nn.Module):\n",
    "    \"\"\" This is used to learn *behaviour* from our environment representation.\n",
    "        ActorCriticCritic uses two value heads/critics. One criticises the \n",
    "        extrinsic reward. The other criticises the intrinsic reward.\n",
    "    \"\"\"\n",
    "    def __init__(self, num_inputs, num_actions):\n",
    "        super().__init__()\n",
    "\n",
    "        self.linear = nn.Sequential(\n",
    "            nn.Linear(num_inputs, 1024),\n",
    "            nn.ReLU(True),\n",
    "            nn.Linear(1024, 512),\n",
    "            nn.ReLU(True)\n",
    "        )\n",
    "\n",
    "        self.critic = nn.Linear(512, 1)\n",
    "\n",
    "    def forward(self, x):\n",
    "        x = self.linear(x)\n",
    "        return self.critic(x)"
   ]
  },
  {
   "cell_type": "markdown",
   "metadata": {
    "colab_type": "text",
    "id": "fsXOZOh64ciH"
   },
   "source": [
    "# Rollout handling"
   ]
  },
  {
   "cell_type": "code",
   "execution_count": 0,
   "metadata": {
    "colab": {},
    "colab_type": "code",
    "id": "A1gk4kwcR-yy"
   },
   "outputs": [],
   "source": [
    "class Rollouts:\n",
    "\n",
    "    def __init__(self):\n",
    "        self.empty_memory()\n",
    "\n",
    "    def store_transition(self, ob, logp, action, reward, value, done, info):\n",
    "        self.obs.append(ob)\n",
    "        self.logps.append(logp)\n",
    "        self.actions.append(action)\n",
    "        self.rewards.append(reward)\n",
    "        self.values.append(value)\n",
    "        self.dones.append(done)\n",
    "        for i in info:\n",
    "            if i.get('episode'): \n",
    "                self.infos['l'].append(i['episode']['l'])\n",
    "                self.infos['r'].append(i['episode']['r'])\n",
    "\n",
    "    def empty_memory(self):\n",
    "        self.obs      = []\n",
    "        self.obs_d1   = []  # t+1\n",
    "        self.obs_d2   = []  # t+2\n",
    "        self.logps    = []\n",
    "        self.actions  = []\n",
    "        self.rewards  = []\n",
    "        self.values   = []\n",
    "        self.dones    = []\n",
    "        self.infos   = {'l':[], 'r':[]}\n",
    "\n",
    "    def preprocess_obs(self, arr):\n",
    "        \"\"\" Normalize and permute array :param arr: to make it Torch compatible \"\"\"\n",
    "        return np.moveaxis(arr.astype(np.float32) / 255., -1, 1)\n",
    "\n",
    "    def flatten(self, x, flat_n, to_tensor=True):\n",
    "        \"\"\" flatten x *in place* to (flat_n, ...)\n",
    "            :param to_tensor: if true, x is cast to a torch tenor \"\"\"\n",
    "        x = np.asarray(x, np.float32).reshape((flat_n,)+x[0].shape[1:])\n",
    "        if to_tensor: \n",
    "            return T.from_numpy(x).to(DEVICE)\n",
    "        return x\n",
    "\n",
    "    def flatten_rollout(self):\n",
    "        \"\"\" flatten trajectory buffers to (NENV*ROLLOUT_LENGTH-1, ...)\"\"\"\n",
    "        N = (ROLLOUT_LENGTH-1)*NENV\n",
    "        self.obs     = self.flatten(self.obs, N)\n",
    "        self.obs_d1  = self.flatten(self.obs_d1, N)\n",
    "        self.obs_d2  = self.flatten(self.obs_d2, N)\n",
    "        self.logps   = self.flatten(self.logps, N)\n",
    "        self.actions = self.flatten(self.actions, N)\n",
    "        self.rewards = self.flatten(self.rewards, N)\n",
    "        self.values  = self.flatten(self.values, N)\n",
    "\n",
    "\n",
    "    def generator(self, random=False):\n",
    "\n",
    "        ob = self.preprocess_obs(env.reset())  # initial observation\n",
    "        rollout_num = 0\n",
    "\n",
    "        while True:\n",
    "            rollout_num += 1\n",
    "            \n",
    "            with T.no_grad():\n",
    "                tob = T.from_numpy(ob).to(DEVICE)\n",
    "                z1 = ae_delta_1.encode(tob)      # latent repr of St+1\n",
    "                z2 = ae_delta_2.encode(tob)      # latent repr of St+2\n",
    "                z_join = T.cat((z1,z2), dim=1)   # joint latent repr\n",
    "\n",
    "                pi     = actor(z_join)           # action scores\n",
    "                v      = critic(z_join)          # value\n",
    "                dist   = Categorical(logits=pi)  # to multinomial (discreet)\n",
    "                action = dist.sample()\n",
    "                if random: action = T.randint_like(action, 0, num_actions)\n",
    "                log_pi = dist.log_prob(action).cpu().numpy()\n",
    "                action = action.cpu().numpy()\n",
    "                v = v.cpu().numpy()[:, 0]\n",
    "            \n",
    "            new_ob, reward, done, info = env.step(action)\n",
    "            self.store_transition(ob, log_pi, action, reward, v, done, info)\n",
    "            ob = self.preprocess_obs(new_ob)\n",
    "\n",
    "            if rollout_num % ROLLOUT_LENGTH == 0:\n",
    "                # bootstrap reward from critic predicted value function\n",
    "                # note that v is V(S_{t+1}) - TD(1) (one step returns)\n",
    "                with T.no_grad():\n",
    "                    tob = T.from_numpy(ob).to(DEVICE)\n",
    "                    z1 = ae_delta_1.encode(tob)      # latent repr of St+1\n",
    "                    z2 = ae_delta_2.encode(tob)      # latent repr of St+2\n",
    "                    z_join = T.cat((z1,z2), dim=1)   # joint latent repr\n",
    "                    flags = 1 - done   # should we bootstrap or not?\n",
    "                    v = critic(z_join)  # value of next state TD(1)\n",
    "                    v = v.cpu().numpy()[:, 0] * flags\n",
    "\n",
    "                # reward discounting / creit assignment\n",
    "                self.rewards[-1] += GAMMA * v\n",
    "                for i in reversed(range(ROLLOUT_LENGTH - 1)):\n",
    "                    flags = 1 - self.dones[i]\n",
    "                    self.rewards[i] += GAMMA * self.rewards[i+1] * flags\n",
    "\n",
    "                self.obs_d1 = self.obs[1:]         # for ae_delta_1\n",
    "                self.obs_d2 = self.obs[2:] + [ob]  # for ae_delta_2\n",
    "                del self.obs[-1]\n",
    "                del self.logps[-1]\n",
    "                del self.actions[-1]\n",
    "                del self.values[-1]\n",
    "                del self.rewards[-1]\n",
    "\n",
    "                # reshape and cast to torch tensors (rollouts)\n",
    "                self.flatten_rollout()\n",
    "                yield self.obs, self.obs_d1, self.obs_d2, self.logps, self.actions, self.values, self.rewards, self.infos\n",
    "                self.empty_memory()"
   ]
  },
  {
   "cell_type": "markdown",
   "metadata": {
    "colab_type": "text",
    "id": "2Vqc0ebOkJFZ"
   },
   "source": [
    "# Train"
   ]
  },
  {
   "cell_type": "code",
   "execution_count": 0,
   "metadata": {
    "colab": {
     "base_uri": "https://localhost:8080/",
     "height": 547
    },
    "colab_type": "code",
    "executionInfo": {
     "elapsed": 12042,
     "status": "ok",
     "timestamp": 1582382917531,
     "user": {
      "displayName": "harry songhurst",
      "photoUrl": "",
      "userId": "00629498674930426914"
     },
     "user_tz": 0
    },
    "id": "Wafv_YXj4ZP_",
    "outputId": "2b4a59a6-f676-4caa-ff3f-48bfcccf3762"
   },
   "outputs": [
    {
     "name": "stderr",
     "output_type": "stream",
     "text": [
      "/usr/local/lib/python3.6/dist-packages/torch/serialization.py:360: UserWarning: Couldn't retrieve source code for container of type UNet. It won't be checked for correctness upon loading.\n",
      "  \"type \" + obj.__name__ + \". It won't be checked \"\n"
     ]
    },
    {
     "name": "stdout",
     "output_type": "stream",
     "text": [
      "----------------------------------------------------------------\n",
      "        Layer (type)               Output Shape         Param #\n",
      "================================================================\n",
      "            Conv2d-1         [1024, 64, 20, 20]          16,448\n",
      "              ReLU-2         [1024, 64, 20, 20]               0\n",
      "            Conv2d-3           [1024, 32, 9, 9]          32,800\n",
      "              ReLU-4           [1024, 32, 9, 9]               0\n",
      "            Conv2d-5           [1024, 16, 6, 6]           8,208\n",
      "              ReLU-6           [1024, 16, 6, 6]               0\n",
      "           Flatten-7                [1024, 576]               0\n",
      "            Linear-8                [1024, 256]         147,712\n",
      "            Linear-9                [1024, 576]         148,032\n",
      "             ReLU-10                [1024, 576]               0\n",
      "  ConvTranspose2d-11           [1024, 32, 9, 9]          18,464\n",
      "             ReLU-12           [1024, 32, 9, 9]               0\n",
      "  ConvTranspose2d-13         [1024, 64, 20, 20]          65,600\n",
      "             ReLU-14         [1024, 64, 20, 20]               0\n",
      "  ConvTranspose2d-15          [1024, 4, 84, 84]          32,772\n",
      "================================================================\n",
      "Total params: 470,036\n",
      "Trainable params: 470,036\n",
      "Non-trainable params: 0\n",
      "----------------------------------------------------------------\n",
      "Input size (MB): 110.25\n",
      "Forward/backward pass size (MB): 1126.00\n",
      "Params size (MB): 1.79\n",
      "Estimated Total Size (MB): 1238.04\n",
      "----------------------------------------------------------------\n"
     ]
    }
   ],
   "source": [
    "# this autoencoder predicts S_{t+1}.\n",
    "ae_delta_1 = UNet(in_dim, num_actions, LATENT_SIZE).to(DEVICE)\n",
    "ae_optim_1 = Adam(ae_delta_1.parameters(), 7e-4, eps=1e-5)\n",
    "T.save(ae_delta_1, 'clone.t')\n",
    "\n",
    "# this autoencoder predicts S_{t+2}. \n",
    "# cloned so latent dynamics are similar.\n",
    "ae_delta_2 = T.load('clone.t').to(DEVICE)\n",
    "ae_optim_2 = Adam(ae_delta_2.parameters(), 7e-4, eps=1e-5)\n",
    "\n",
    "# this is our actor + critic\n",
    "# input is both latent vectors of above autoencoders.\n",
    "actor = ACTOR(LATENT_SIZE*2, num_actions).to(DEVICE)\n",
    "actor_optim = Adam(actor.parameters(), 7e-4, eps=1e-5)\n",
    "\n",
    "critic = CRITIC(LATENT_SIZE*2, num_actions).to(DEVICE)\n",
    "critic_optim = Adam(critic.parameters(), 7e-4, eps=1e-5)\n",
    "\n",
    "summary(ae_delta_1, input_size=in_dim, batch_size=NENV*ROLLOUT_LENGTH)"
   ]
  },
  {
   "cell_type": "code",
   "execution_count": 0,
   "metadata": {
    "colab": {},
    "colab_type": "code",
    "id": "CBQu-7iekISu"
   },
   "outputs": [],
   "source": [
    "NUM_UPDATES = 1000\n",
    "\n",
    "MB_LEN      = int(NENV*(ROLLOUT_LENGTH-1))\n",
    "SPLIT_LEN   = int(MB_LEN//MB_SPLIT)\n",
    "NUM_UPDATES = int(TOTAL_TIMESTEPS//MB_LEN)\n",
    "\n",
    "rgen = Rollouts().generator(random=True)\n",
    "\n",
    "actor_scheduler  = LambdaLR(actor_optim, lambda i: 1 - (i / NUM_UPDATES))\n",
    "critic_scheduler  = LambdaLR(critic_optim, lambda i: 1 - (i / NUM_UPDATES))\n",
    "ae_1_scheduler = LambdaLR(ae_optim_1, lambda i: 1 - (i / NUM_UPDATES))\n",
    "ae_2_scheduler = LambdaLR(ae_optim_2, lambda i: 1 - (i / NUM_UPDATES))"
   ]
  },
  {
   "cell_type": "code",
   "execution_count": 0,
   "metadata": {
    "colab": {
     "base_uri": "https://localhost:8080/",
     "height": 375
    },
    "colab_type": "code",
    "executionInfo": {
     "elapsed": 133377,
     "status": "error",
     "timestamp": 1582383043859,
     "user": {
      "displayName": "harry songhurst",
      "photoUrl": "",
      "userId": "00629498674930426914"
     },
     "user_tz": 0
    },
    "id": "BRhtax69YQ7S",
    "outputId": "ba1d2b4a-8aee-4a13-8343-e6d0c7ba6017"
   },
   "outputs": [
    {
     "ename": "KeyboardInterrupt",
     "evalue": "ignored",
     "output_type": "error",
     "traceback": [
      "\u001b[0;31m---------------------------------------------------------------------------\u001b[0m",
      "\u001b[0;31mKeyboardInterrupt\u001b[0m                         Traceback (most recent call last)",
      "\u001b[0;32m<ipython-input-12-55348314b5d1>\u001b[0m in \u001b[0;36m<module>\u001b[0;34m()\u001b[0m\n\u001b[1;32m     10\u001b[0m     \u001b[0mobs\u001b[0m\u001b[0;34m,\u001b[0m \u001b[0mobs_d1\u001b[0m\u001b[0;34m,\u001b[0m \u001b[0mobs_d2\u001b[0m\u001b[0;34m,\u001b[0m \u001b[0mlogps\u001b[0m\u001b[0;34m,\u001b[0m \u001b[0mactions\u001b[0m\u001b[0;34m,\u001b[0m \u001b[0mvalues\u001b[0m\u001b[0;34m,\u001b[0m \u001b[0mrewards\u001b[0m\u001b[0;34m,\u001b[0m \u001b[0minfos\u001b[0m \u001b[0;34m=\u001b[0m \u001b[0mnext\u001b[0m\u001b[0;34m(\u001b[0m\u001b[0mrgen\u001b[0m\u001b[0;34m)\u001b[0m\u001b[0;34m\u001b[0m\u001b[0;34m\u001b[0m\u001b[0m\n\u001b[1;32m     11\u001b[0m     \u001b[0;32mfor\u001b[0m \u001b[0mjj\u001b[0m \u001b[0;32min\u001b[0m \u001b[0mrange\u001b[0m\u001b[0;34m(\u001b[0m\u001b[0;36m100\u001b[0m\u001b[0;34m)\u001b[0m\u001b[0;34m:\u001b[0m\u001b[0;34m\u001b[0m\u001b[0;34m\u001b[0m\u001b[0m\n\u001b[0;32m---> 12\u001b[0;31m         \u001b[0mpred_ae_1\u001b[0m\u001b[0;34m,\u001b[0m \u001b[0mz1\u001b[0m \u001b[0;34m=\u001b[0m \u001b[0mae_delta_1\u001b[0m\u001b[0;34m(\u001b[0m\u001b[0mobs\u001b[0m\u001b[0;34m,\u001b[0m \u001b[0mactions\u001b[0m\u001b[0;34m.\u001b[0m\u001b[0mcpu\u001b[0m\u001b[0;34m(\u001b[0m\u001b[0;34m)\u001b[0m\u001b[0;34m.\u001b[0m\u001b[0mnumpy\u001b[0m\u001b[0;34m(\u001b[0m\u001b[0;34m)\u001b[0m\u001b[0;34m.\u001b[0m\u001b[0mastype\u001b[0m\u001b[0;34m(\u001b[0m\u001b[0mint\u001b[0m\u001b[0;34m)\u001b[0m\u001b[0;34m)\u001b[0m\u001b[0;34m\u001b[0m\u001b[0;34m\u001b[0m\u001b[0m\n\u001b[0m\u001b[1;32m     13\u001b[0m         \u001b[0mciterion\u001b[0m  \u001b[0;34m=\u001b[0m \u001b[0mnn\u001b[0m\u001b[0;34m.\u001b[0m\u001b[0mMSELoss\u001b[0m\u001b[0;34m(\u001b[0m\u001b[0;34m)\u001b[0m\u001b[0;34m\u001b[0m\u001b[0;34m\u001b[0m\u001b[0m\n\u001b[1;32m     14\u001b[0m         \u001b[0mloss_ae_1\u001b[0m \u001b[0;34m=\u001b[0m \u001b[0mciterion\u001b[0m\u001b[0;34m(\u001b[0m\u001b[0mpred_ae_1\u001b[0m\u001b[0;34m,\u001b[0m \u001b[0mobs_d1\u001b[0m\u001b[0;34m)\u001b[0m\u001b[0;34m\u001b[0m\u001b[0;34m\u001b[0m\u001b[0m\n",
      "\u001b[0;32m/usr/local/lib/python3.6/dist-packages/torch/nn/modules/module.py\u001b[0m in \u001b[0;36m__call__\u001b[0;34m(self, *input, **kwargs)\u001b[0m\n\u001b[1;32m    530\u001b[0m             \u001b[0mresult\u001b[0m \u001b[0;34m=\u001b[0m \u001b[0mself\u001b[0m\u001b[0;34m.\u001b[0m\u001b[0m_slow_forward\u001b[0m\u001b[0;34m(\u001b[0m\u001b[0;34m*\u001b[0m\u001b[0minput\u001b[0m\u001b[0;34m,\u001b[0m \u001b[0;34m**\u001b[0m\u001b[0mkwargs\u001b[0m\u001b[0;34m)\u001b[0m\u001b[0;34m\u001b[0m\u001b[0;34m\u001b[0m\u001b[0m\n\u001b[1;32m    531\u001b[0m         \u001b[0;32melse\u001b[0m\u001b[0;34m:\u001b[0m\u001b[0;34m\u001b[0m\u001b[0;34m\u001b[0m\u001b[0m\n\u001b[0;32m--> 532\u001b[0;31m             \u001b[0mresult\u001b[0m \u001b[0;34m=\u001b[0m \u001b[0mself\u001b[0m\u001b[0;34m.\u001b[0m\u001b[0mforward\u001b[0m\u001b[0;34m(\u001b[0m\u001b[0;34m*\u001b[0m\u001b[0minput\u001b[0m\u001b[0;34m,\u001b[0m \u001b[0;34m**\u001b[0m\u001b[0mkwargs\u001b[0m\u001b[0;34m)\u001b[0m\u001b[0;34m\u001b[0m\u001b[0;34m\u001b[0m\u001b[0m\n\u001b[0m\u001b[1;32m    533\u001b[0m         \u001b[0;32mfor\u001b[0m \u001b[0mhook\u001b[0m \u001b[0;32min\u001b[0m \u001b[0mself\u001b[0m\u001b[0;34m.\u001b[0m\u001b[0m_forward_hooks\u001b[0m\u001b[0;34m.\u001b[0m\u001b[0mvalues\u001b[0m\u001b[0;34m(\u001b[0m\u001b[0;34m)\u001b[0m\u001b[0;34m:\u001b[0m\u001b[0;34m\u001b[0m\u001b[0;34m\u001b[0m\u001b[0m\n\u001b[1;32m    534\u001b[0m             \u001b[0mhook_result\u001b[0m \u001b[0;34m=\u001b[0m \u001b[0mhook\u001b[0m\u001b[0;34m(\u001b[0m\u001b[0mself\u001b[0m\u001b[0;34m,\u001b[0m \u001b[0minput\u001b[0m\u001b[0;34m,\u001b[0m \u001b[0mresult\u001b[0m\u001b[0;34m)\u001b[0m\u001b[0;34m\u001b[0m\u001b[0;34m\u001b[0m\u001b[0m\n",
      "\u001b[0;32m<ipython-input-7-5c31c1d051ea>\u001b[0m in \u001b[0;36mforward\u001b[0;34m(self, x, actions)\u001b[0m\n\u001b[1;32m     79\u001b[0m         \u001b[0mx\u001b[0m \u001b[0;34m=\u001b[0m \u001b[0mself\u001b[0m\u001b[0;34m.\u001b[0m\u001b[0mup_3\u001b[0m\u001b[0;34m(\u001b[0m\u001b[0mx\u001b[0m\u001b[0;34m)\u001b[0m\u001b[0;34m\u001b[0m\u001b[0;34m\u001b[0m\u001b[0m\n\u001b[1;32m     80\u001b[0m         \u001b[0mx\u001b[0m \u001b[0;34m=\u001b[0m \u001b[0mT\u001b[0m\u001b[0;34m.\u001b[0m\u001b[0mcat\u001b[0m\u001b[0;34m(\u001b[0m\u001b[0;34m(\u001b[0m\u001b[0mx\u001b[0m\u001b[0;34m,\u001b[0m \u001b[0md2\u001b[0m\u001b[0;34m)\u001b[0m\u001b[0;34m,\u001b[0m \u001b[0mdim\u001b[0m\u001b[0;34m=\u001b[0m\u001b[0;36m1\u001b[0m\u001b[0;34m)\u001b[0m\u001b[0;34m\u001b[0m\u001b[0;34m\u001b[0m\u001b[0m\n\u001b[0;32m---> 81\u001b[0;31m         \u001b[0mx\u001b[0m \u001b[0;34m=\u001b[0m \u001b[0mself\u001b[0m\u001b[0;34m.\u001b[0m\u001b[0mup_2\u001b[0m\u001b[0;34m(\u001b[0m\u001b[0mx\u001b[0m\u001b[0;34m)\u001b[0m\u001b[0;34m\u001b[0m\u001b[0;34m\u001b[0m\u001b[0m\n\u001b[0m\u001b[1;32m     82\u001b[0m         \u001b[0mx\u001b[0m \u001b[0;34m=\u001b[0m \u001b[0mT\u001b[0m\u001b[0;34m.\u001b[0m\u001b[0mcat\u001b[0m\u001b[0;34m(\u001b[0m\u001b[0;34m(\u001b[0m\u001b[0mx\u001b[0m\u001b[0;34m,\u001b[0m \u001b[0md1\u001b[0m\u001b[0;34m)\u001b[0m\u001b[0;34m,\u001b[0m \u001b[0mdim\u001b[0m\u001b[0;34m=\u001b[0m\u001b[0;36m1\u001b[0m\u001b[0;34m)\u001b[0m\u001b[0;34m\u001b[0m\u001b[0;34m\u001b[0m\u001b[0m\n\u001b[1;32m     83\u001b[0m         \u001b[0mx\u001b[0m \u001b[0;34m=\u001b[0m \u001b[0mself\u001b[0m\u001b[0;34m.\u001b[0m\u001b[0mup_1\u001b[0m\u001b[0;34m(\u001b[0m\u001b[0mx\u001b[0m\u001b[0;34m)\u001b[0m\u001b[0;34m\u001b[0m\u001b[0;34m\u001b[0m\u001b[0m\n",
      "\u001b[0;32m/usr/local/lib/python3.6/dist-packages/torch/nn/modules/module.py\u001b[0m in \u001b[0;36m__call__\u001b[0;34m(self, *input, **kwargs)\u001b[0m\n\u001b[1;32m    530\u001b[0m             \u001b[0mresult\u001b[0m \u001b[0;34m=\u001b[0m \u001b[0mself\u001b[0m\u001b[0;34m.\u001b[0m\u001b[0m_slow_forward\u001b[0m\u001b[0;34m(\u001b[0m\u001b[0;34m*\u001b[0m\u001b[0minput\u001b[0m\u001b[0;34m,\u001b[0m \u001b[0;34m**\u001b[0m\u001b[0mkwargs\u001b[0m\u001b[0;34m)\u001b[0m\u001b[0;34m\u001b[0m\u001b[0;34m\u001b[0m\u001b[0m\n\u001b[1;32m    531\u001b[0m         \u001b[0;32melse\u001b[0m\u001b[0;34m:\u001b[0m\u001b[0;34m\u001b[0m\u001b[0;34m\u001b[0m\u001b[0m\n\u001b[0;32m--> 532\u001b[0;31m             \u001b[0mresult\u001b[0m \u001b[0;34m=\u001b[0m \u001b[0mself\u001b[0m\u001b[0;34m.\u001b[0m\u001b[0mforward\u001b[0m\u001b[0;34m(\u001b[0m\u001b[0;34m*\u001b[0m\u001b[0minput\u001b[0m\u001b[0;34m,\u001b[0m \u001b[0;34m**\u001b[0m\u001b[0mkwargs\u001b[0m\u001b[0;34m)\u001b[0m\u001b[0;34m\u001b[0m\u001b[0;34m\u001b[0m\u001b[0m\n\u001b[0m\u001b[1;32m    533\u001b[0m         \u001b[0;32mfor\u001b[0m \u001b[0mhook\u001b[0m \u001b[0;32min\u001b[0m \u001b[0mself\u001b[0m\u001b[0;34m.\u001b[0m\u001b[0m_forward_hooks\u001b[0m\u001b[0;34m.\u001b[0m\u001b[0mvalues\u001b[0m\u001b[0;34m(\u001b[0m\u001b[0;34m)\u001b[0m\u001b[0;34m:\u001b[0m\u001b[0;34m\u001b[0m\u001b[0;34m\u001b[0m\u001b[0m\n\u001b[1;32m    534\u001b[0m             \u001b[0mhook_result\u001b[0m \u001b[0;34m=\u001b[0m \u001b[0mhook\u001b[0m\u001b[0;34m(\u001b[0m\u001b[0mself\u001b[0m\u001b[0;34m,\u001b[0m \u001b[0minput\u001b[0m\u001b[0;34m,\u001b[0m \u001b[0mresult\u001b[0m\u001b[0;34m)\u001b[0m\u001b[0;34m\u001b[0m\u001b[0;34m\u001b[0m\u001b[0m\n",
      "\u001b[0;32m/usr/local/lib/python3.6/dist-packages/torch/nn/modules/container.py\u001b[0m in \u001b[0;36mforward\u001b[0;34m(self, input)\u001b[0m\n\u001b[1;32m     98\u001b[0m     \u001b[0;32mdef\u001b[0m \u001b[0mforward\u001b[0m\u001b[0;34m(\u001b[0m\u001b[0mself\u001b[0m\u001b[0;34m,\u001b[0m \u001b[0minput\u001b[0m\u001b[0;34m)\u001b[0m\u001b[0;34m:\u001b[0m\u001b[0;34m\u001b[0m\u001b[0;34m\u001b[0m\u001b[0m\n\u001b[1;32m     99\u001b[0m         \u001b[0;32mfor\u001b[0m \u001b[0mmodule\u001b[0m \u001b[0;32min\u001b[0m \u001b[0mself\u001b[0m\u001b[0;34m:\u001b[0m\u001b[0;34m\u001b[0m\u001b[0;34m\u001b[0m\u001b[0m\n\u001b[0;32m--> 100\u001b[0;31m             \u001b[0minput\u001b[0m \u001b[0;34m=\u001b[0m \u001b[0mmodule\u001b[0m\u001b[0;34m(\u001b[0m\u001b[0minput\u001b[0m\u001b[0;34m)\u001b[0m\u001b[0;34m\u001b[0m\u001b[0;34m\u001b[0m\u001b[0m\n\u001b[0m\u001b[1;32m    101\u001b[0m         \u001b[0;32mreturn\u001b[0m \u001b[0minput\u001b[0m\u001b[0;34m\u001b[0m\u001b[0;34m\u001b[0m\u001b[0m\n\u001b[1;32m    102\u001b[0m \u001b[0;34m\u001b[0m\u001b[0m\n",
      "\u001b[0;32m/usr/local/lib/python3.6/dist-packages/torch/nn/modules/module.py\u001b[0m in \u001b[0;36m__call__\u001b[0;34m(self, *input, **kwargs)\u001b[0m\n\u001b[1;32m    530\u001b[0m             \u001b[0mresult\u001b[0m \u001b[0;34m=\u001b[0m \u001b[0mself\u001b[0m\u001b[0;34m.\u001b[0m\u001b[0m_slow_forward\u001b[0m\u001b[0;34m(\u001b[0m\u001b[0;34m*\u001b[0m\u001b[0minput\u001b[0m\u001b[0;34m,\u001b[0m \u001b[0;34m**\u001b[0m\u001b[0mkwargs\u001b[0m\u001b[0;34m)\u001b[0m\u001b[0;34m\u001b[0m\u001b[0;34m\u001b[0m\u001b[0m\n\u001b[1;32m    531\u001b[0m         \u001b[0;32melse\u001b[0m\u001b[0;34m:\u001b[0m\u001b[0;34m\u001b[0m\u001b[0;34m\u001b[0m\u001b[0m\n\u001b[0;32m--> 532\u001b[0;31m             \u001b[0mresult\u001b[0m \u001b[0;34m=\u001b[0m \u001b[0mself\u001b[0m\u001b[0;34m.\u001b[0m\u001b[0mforward\u001b[0m\u001b[0;34m(\u001b[0m\u001b[0;34m*\u001b[0m\u001b[0minput\u001b[0m\u001b[0;34m,\u001b[0m \u001b[0;34m**\u001b[0m\u001b[0mkwargs\u001b[0m\u001b[0;34m)\u001b[0m\u001b[0;34m\u001b[0m\u001b[0;34m\u001b[0m\u001b[0m\n\u001b[0m\u001b[1;32m    533\u001b[0m         \u001b[0;32mfor\u001b[0m \u001b[0mhook\u001b[0m \u001b[0;32min\u001b[0m \u001b[0mself\u001b[0m\u001b[0;34m.\u001b[0m\u001b[0m_forward_hooks\u001b[0m\u001b[0;34m.\u001b[0m\u001b[0mvalues\u001b[0m\u001b[0;34m(\u001b[0m\u001b[0;34m)\u001b[0m\u001b[0;34m:\u001b[0m\u001b[0;34m\u001b[0m\u001b[0;34m\u001b[0m\u001b[0m\n\u001b[1;32m    534\u001b[0m             \u001b[0mhook_result\u001b[0m \u001b[0;34m=\u001b[0m \u001b[0mhook\u001b[0m\u001b[0;34m(\u001b[0m\u001b[0mself\u001b[0m\u001b[0;34m,\u001b[0m \u001b[0minput\u001b[0m\u001b[0;34m,\u001b[0m \u001b[0mresult\u001b[0m\u001b[0;34m)\u001b[0m\u001b[0;34m\u001b[0m\u001b[0;34m\u001b[0m\u001b[0m\n",
      "\u001b[0;32m/usr/local/lib/python3.6/dist-packages/torch/nn/modules/conv.py\u001b[0m in \u001b[0;36mforward\u001b[0;34m(self, input, output_size)\u001b[0m\n\u001b[1;32m    776\u001b[0m         return F.conv_transpose2d(\n\u001b[1;32m    777\u001b[0m             \u001b[0minput\u001b[0m\u001b[0;34m,\u001b[0m \u001b[0mself\u001b[0m\u001b[0;34m.\u001b[0m\u001b[0mweight\u001b[0m\u001b[0;34m,\u001b[0m \u001b[0mself\u001b[0m\u001b[0;34m.\u001b[0m\u001b[0mbias\u001b[0m\u001b[0;34m,\u001b[0m \u001b[0mself\u001b[0m\u001b[0;34m.\u001b[0m\u001b[0mstride\u001b[0m\u001b[0;34m,\u001b[0m \u001b[0mself\u001b[0m\u001b[0;34m.\u001b[0m\u001b[0mpadding\u001b[0m\u001b[0;34m,\u001b[0m\u001b[0;34m\u001b[0m\u001b[0;34m\u001b[0m\u001b[0m\n\u001b[0;32m--> 778\u001b[0;31m             output_padding, self.groups, self.dilation)\n\u001b[0m\u001b[1;32m    779\u001b[0m \u001b[0;34m\u001b[0m\u001b[0m\n\u001b[1;32m    780\u001b[0m \u001b[0;34m\u001b[0m\u001b[0m\n",
      "\u001b[0;31mKeyboardInterrupt\u001b[0m: "
     ]
    }
   ],
   "source": [
    "FR = ROLLOUT_LENGTH*NENV\n",
    "\n",
    "loss_history_ae_1 = []\n",
    "loss_history_ae_2 = []\n",
    "frames_loss_history_ae_1 = []\n",
    "frames_loss_history_ae_2 = []\n",
    "\n",
    "# Testing AE / pretraining\n",
    "for ii in range(NUM_UPDATES):\n",
    "    obs, obs_d1, obs_d2, logps, actions, values, rewards, infos = next(rgen)\n",
    "    for jj in range(100):\n",
    "        pred_ae_1, z1 = ae_delta_1(obs, actions.cpu().numpy().astype(int))\n",
    "        citerion  = nn.MSELoss()\n",
    "        loss_ae_1 = citerion(pred_ae_1, obs_d1)\n",
    "        ae_optim_1.zero_grad()\n",
    "        loss_ae_1.backward()\n",
    "        nn.utils.clip_grad_norm_(ae_delta_1.parameters(), 0.5)\n",
    "        ae_optim_1.step()\n",
    "\n",
    "        pred_ae_2, z2 = ae_delta_2(obs, actions.cpu().numpy().astype(int))\n",
    "        citerion  = nn.MSELoss()\n",
    "        loss_ae_2 = citerion(pred_ae_2, obs_d2)\n",
    "        ae_optim_2.zero_grad()\n",
    "        loss_ae_2.backward()\n",
    "        nn.utils.clip_grad_norm_(ae_delta_2.parameters(), 0.5)\n",
    "        ae_optim_2.step()\n",
    "\n",
    "        frames = (ii*100*FR) + (jj*FR)\n",
    "        loss_history_ae_1.append(loss_ae_1.item())\n",
    "        frames_loss_history_ae_1.append((frames, loss_ae_1.item()))\n",
    "        loss_history_ae_2.append(loss_ae_2.item())\n",
    "        frames_loss_history_ae_2.append((frames, loss_ae_2.item()))\n",
    "        \n",
    "    print(f'Batch {ii}, loss_ae_1 {loss_ae_1}, loss_ae_2 {loss_ae_2}')\n",
    "    ae_1_scheduler.step(ii)\n",
    "    ae_2_scheduler.step(ii)\n",
    "\n",
    "    if ii % 5 == 0:\n",
    "        print('OBS:')\n",
    "        plt.imshow(obs.cpu().numpy()[500][0])\n",
    "        plt.show()\n",
    "        print('TARGET D1:')\n",
    "        plt.imshow(obs_d1.cpu().numpy()[500][0])\n",
    "        plt.show()\n",
    "        print('PRED D1:')\n",
    "        plt.imshow(pred_ae_1.detach().cpu().numpy()[500][0])\n",
    "        plt.show()\n",
    "        print('TARGET D2:')\n",
    "        plt.imshow(obs_d2.cpu().numpy()[500][0])\n",
    "        plt.show()\n",
    "        print('PRED D2:')\n",
    "        plt.imshow(pred_ae_2.detach().cpu().numpy()[500][0])\n",
    "        plt.show()"
   ]
  },
  {
   "cell_type": "code",
   "execution_count": 0,
   "metadata": {
    "colab": {
     "base_uri": "https://localhost:8080/",
     "height": 232
    },
    "colab_type": "code",
    "executionInfo": {
     "elapsed": 705,
     "status": "error",
     "timestamp": 1582382873833,
     "user": {
      "displayName": "harry songhurst",
      "photoUrl": "",
      "userId": "00629498674930426914"
     },
     "user_tz": 0
    },
    "id": "N9ge9nULH592",
    "outputId": "6b165657-e70d-4420-a4ed-cb2eb5c4551c"
   },
   "outputs": [
    {
     "ename": "NameError",
     "evalue": "ignored",
     "output_type": "error",
     "traceback": [
      "\u001b[0;31m---------------------------------------------------------------------------\u001b[0m",
      "\u001b[0;31mNameError\u001b[0m                                 Traceback (most recent call last)",
      "\u001b[0;32m<ipython-input-1-b92cfc5a203e>\u001b[0m in \u001b[0;36m<module>\u001b[0;34m()\u001b[0m\n\u001b[0;32m----> 1\u001b[0;31m \u001b[0mfig\u001b[0m\u001b[0;34m,\u001b[0m \u001b[0max\u001b[0m \u001b[0;34m=\u001b[0m \u001b[0mplt\u001b[0m\u001b[0;34m.\u001b[0m\u001b[0msubplots\u001b[0m\u001b[0;34m(\u001b[0m\u001b[0mfigsize\u001b[0m\u001b[0;34m=\u001b[0m\u001b[0;34m(\u001b[0m\u001b[0;36m10\u001b[0m\u001b[0;34m,\u001b[0m\u001b[0;36m10\u001b[0m\u001b[0;34m)\u001b[0m\u001b[0;34m)\u001b[0m\u001b[0;34m\u001b[0m\u001b[0;34m\u001b[0m\u001b[0m\n\u001b[0m\u001b[1;32m      2\u001b[0m \u001b[0max\u001b[0m\u001b[0;34m.\u001b[0m\u001b[0mset_xlabel\u001b[0m\u001b[0;34m(\u001b[0m\u001b[0;34m'Frames'\u001b[0m\u001b[0;34m)\u001b[0m\u001b[0;34m\u001b[0m\u001b[0;34m\u001b[0m\u001b[0m\n\u001b[1;32m      3\u001b[0m \u001b[0max\u001b[0m\u001b[0;34m.\u001b[0m\u001b[0mset_ylabel\u001b[0m\u001b[0;34m(\u001b[0m\u001b[0;34m'Loss'\u001b[0m\u001b[0;34m)\u001b[0m\u001b[0;34m\u001b[0m\u001b[0;34m\u001b[0m\u001b[0m\n\u001b[1;32m      4\u001b[0m \u001b[0max\u001b[0m\u001b[0;34m.\u001b[0m\u001b[0mset_title\u001b[0m\u001b[0;34m(\u001b[0m\u001b[0;34m'UNet'\u001b[0m\u001b[0;34m)\u001b[0m\u001b[0;34m\u001b[0m\u001b[0;34m\u001b[0m\u001b[0m\n\u001b[1;32m      5\u001b[0m \u001b[0mclrs\u001b[0m \u001b[0;34m=\u001b[0m \u001b[0msns\u001b[0m\u001b[0;34m.\u001b[0m\u001b[0mcolor_palette\u001b[0m\u001b[0;34m(\u001b[0m\u001b[0;34m\"husl\"\u001b[0m\u001b[0;34m,\u001b[0m \u001b[0;36m5\u001b[0m\u001b[0;34m)\u001b[0m\u001b[0;34m\u001b[0m\u001b[0;34m\u001b[0m\u001b[0m\n",
      "\u001b[0;31mNameError\u001b[0m: name 'plt' is not defined"
     ]
    }
   ],
   "source": [
    "fig, ax = plt.subplots(figsize=(10,10))\n",
    "ax.set_xlabel('Frames')\n",
    "ax.set_ylabel('Loss')\n",
    "ax.set_title('UNet')\n",
    "clrs = sns.color_palette(\"husl\", 5)\n",
    "\n",
    "ax.plot(\n",
    "    *zip(*frames_loss_history_ae_1),\n",
    "    label='t+1', \n",
    "    c=clrs[0]\n",
    ")\n",
    "ax.plot(\n",
    "    *zip(*frames_loss_history_ae_2),\n",
    "    label='t+2', \n",
    "    c=clrs[1]\n",
    ")\n",
    "\n",
    "ax.legend(loc='upper right')"
   ]
  },
  {
   "cell_type": "code",
   "execution_count": 0,
   "metadata": {
    "colab": {
     "base_uri": "https://localhost:8080/",
     "height": 779
    },
    "colab_type": "code",
    "executionInfo": {
     "elapsed": 2357,
     "status": "ok",
     "timestamp": 1582379227789,
     "user": {
      "displayName": "harry songhurst",
      "photoUrl": "",
      "userId": "00629498674930426914"
     },
     "user_tz": 0
    },
    "id": "Zug51vJCJFCY",
    "outputId": "e0199d1c-77c3-4ad2-cb9f-09b2a7a6f86b"
   },
   "outputs": [
    {
     "data": {
      "image/png": "[encoded data removed]",
      "text/plain": [
       "<Figure size 432x288 with 1 Axes>"
      ]
     },
     "metadata": {
      "tags": []
     },
     "output_type": "display_data"
    },
    {
     "data": {
      "image/png": "[encoded data removed]",
      "text/plain": [
       "<Figure size 432x288 with 1 Axes>"
      ]
     },
     "metadata": {
      "tags": []
     },
     "output_type": "display_data"
    },
    {
     "data": {
      "image/png": "[encoded data removed]",
      "text/plain": [
       "<Figure size 432x288 with 1 Axes>"
      ]
     },
     "metadata": {
      "tags": []
     },
     "output_type": "display_data"
    }
   ],
   "source": [
    "plt.imshow(obs.cpu().numpy()[792][0])\n",
    "plt.show()\n",
    "plt.imshow(obs.cpu().numpy()[800][0])\n",
    "plt.show()\n",
    "plt.imshow(obs.cpu().numpy()[808][0])\n",
    "plt.show()"
   ]
  },
  {
   "cell_type": "code",
   "execution_count": 0,
   "metadata": {
    "colab": {
     "base_uri": "https://localhost:8080/",
     "height": 779
    },
    "colab_type": "code",
    "executionInfo": {
     "elapsed": 2353,
     "status": "ok",
     "timestamp": 1582379922342,
     "user": {
      "displayName": "harry songhurst",
      "photoUrl": "",
      "userId": "00629498674930426914"
     },
     "user_tz": 0
    },
    "id": "1PyF1rrrJ1RI",
    "outputId": "3a52c74c-c9ed-481a-9eb9-5d4e59f90c64"
   },
   "outputs": [
    {
     "data": {
      "image/png": "[encoded data removed]",
      "text/plain": [
       "<Figure size 432x288 with 1 Axes>"
      ]
     },
     "metadata": {
      "tags": []
     },
     "output_type": "display_data"
    },
    {
     "data": {
      "image/png": "[encoded data removed]",
      "text/plain": [
       "<Figure size 432x288 with 1 Axes>"
      ]
     },
     "metadata": {
      "tags": []
     },
     "output_type": "display_data"
    },
    {
     "data": {
      "image/png": "[encoded data removed]",
      "text/plain": [
       "<Figure size 432x288 with 1 Axes>"
      ]
     },
     "metadata": {
      "tags": []
     },
     "output_type": "display_data"
    }
   ],
   "source": [
    "plt.imshow(pred_ae_1.detach().cpu().numpy()[784][0])\n",
    "plt.show()\n",
    "plt.imshow(pred_ae_1.detach().cpu().numpy()[792][0])\n",
    "plt.show()\n",
    "plt.imshow(pred_ae_1.detach().cpu().numpy()[800][0])\n",
    "plt.show()"
   ]
  },
  {
   "cell_type": "code",
   "execution_count": 0,
   "metadata": {
    "colab": {
     "base_uri": "https://localhost:8080/",
     "height": 34
    },
    "colab_type": "code",
    "executionInfo": {
     "elapsed": 1649,
     "status": "ok",
     "timestamp": 1582379530806,
     "user": {
      "displayName": "harry songhurst",
      "photoUrl": "",
      "userId": "00629498674930426914"
     },
     "user_tz": 0
    },
    "id": "-Xd2bf3xKUiH",
    "outputId": "7de27517-4d53-4048-ef1d-8539ab8774c4"
   },
   "outputs": [
    {
     "data": {
      "text/plain": [
       "tensor(0.2204, device='cuda:0')"
      ]
     },
     "execution_count": 57,
     "metadata": {
      "tags": []
     },
     "output_type": "execute_result"
    }
   ],
   "source": [
    "((z1[808].detach() - z2[800].detach())**2).mean()"
   ]
  },
  {
   "cell_type": "code",
   "execution_count": 0,
   "metadata": {
    "colab": {
     "base_uri": "https://localhost:8080/",
     "height": 476
    },
    "colab_type": "code",
    "executionInfo": {
     "elapsed": 1624,
     "status": "ok",
     "timestamp": 1582379558888,
     "user": {
      "displayName": "harry songhurst",
      "photoUrl": "",
      "userId": "00629498674930426914"
     },
     "user_tz": 0
    },
    "id": "3WJJJl5PK8zr",
    "outputId": "22a83279-35a8-49ea-b4a3-a94af05d99e9"
   },
   "outputs": [
    {
     "data": {
      "text/plain": [
       "tensor([ 8.0376e-01,  8.8266e-02,  1.1639e+00, -1.3699e+00, -1.3160e+00,\n",
       "         1.8180e-01, -1.5253e-03,  1.0978e+00,  5.2488e-02, -1.0143e+00,\n",
       "        -1.4610e+00,  4.5945e-01,  9.3698e-01, -8.5002e-01,  1.1076e+00,\n",
       "        -7.8900e-01,  9.4989e-01,  4.4773e-01, -2.1956e-02,  7.9435e-01,\n",
       "         1.0508e+00,  1.2034e+00,  1.6515e+00, -6.2497e-01, -6.6005e-01,\n",
       "        -2.2962e+00,  2.4204e-01, -5.5995e-01,  5.8764e-01,  4.6676e-01,\n",
       "        -1.0775e+00,  1.6415e+00,  1.2964e+00, -5.6647e-01, -8.3575e-01,\n",
       "         3.2635e-01,  1.3857e+00,  7.0704e-01,  5.2169e-01,  6.1195e-01,\n",
       "        -6.2270e-01,  9.7524e-01, -1.3399e-01,  8.0129e-01, -1.0580e+00,\n",
       "        -4.0243e-01, -4.7734e-01,  1.8742e+00, -6.5322e-01,  1.2608e+00,\n",
       "        -6.4300e-01, -4.5713e-01,  1.5870e+00, -3.8234e-01,  2.5695e-01,\n",
       "        -4.0767e-01,  2.8479e-01,  7.8106e-01,  1.2291e+00, -7.6332e-01,\n",
       "        -5.1275e-01, -5.2933e-01,  7.9675e-01,  3.0005e-01,  2.0870e-01,\n",
       "        -1.2081e-01, -4.6075e-01,  6.8821e-01,  7.2735e-01,  1.3469e+00,\n",
       "         2.8104e-01, -1.2247e+00,  2.5969e-01, -3.6737e-01,  1.8444e+00,\n",
       "        -1.7370e+00,  9.8882e-01, -2.9315e-01,  6.6246e-02, -1.5298e+00,\n",
       "        -9.5007e-01, -2.1786e-01, -5.0811e-02,  9.9201e-01, -3.0381e-01,\n",
       "         5.6553e-01, -5.7498e-02, -1.7115e+00,  1.3309e+00, -9.0987e-01,\n",
       "         4.4082e-01, -3.5435e-01,  1.3300e+00, -3.4462e-01, -6.7023e-01,\n",
       "         1.1408e+00,  9.9625e-01, -3.5042e-01, -2.9118e-01, -1.4065e-01,\n",
       "         5.6392e-01,  1.1226e+00,  1.1600e+00, -3.5278e-01, -7.0703e-01,\n",
       "        -1.4017e+00, -6.4497e-01, -3.4928e-01, -9.9898e-01,  1.5300e+00,\n",
       "         1.5578e+00, -3.5864e-01,  5.1857e-01,  4.2417e-01, -3.1027e-01,\n",
       "        -2.1777e-01,  1.1949e+00, -6.2861e-01, -1.7364e+00, -7.4636e-01,\n",
       "        -2.5004e-01,  1.6012e+00, -8.4668e-01,  1.4631e+00, -2.8328e-01,\n",
       "         1.4095e+00, -3.1981e-01,  3.1497e-01], device='cuda:0',\n",
       "       grad_fn=<SelectBackward>)"
      ]
     },
     "execution_count": 58,
     "metadata": {
      "tags": []
     },
     "output_type": "execute_result"
    }
   ],
   "source": [
    "z1[808]"
   ]
  },
  {
   "cell_type": "code",
   "execution_count": 0,
   "metadata": {
    "colab": {
     "base_uri": "https://localhost:8080/",
     "height": 306
    },
    "colab_type": "code",
    "executionInfo": {
     "elapsed": 2702,
     "status": "ok",
     "timestamp": 1582379568813,
     "user": {
      "displayName": "harry songhurst",
      "photoUrl": "",
      "userId": "00629498674930426914"
     },
     "user_tz": 0
    },
    "id": "GNJ1nDhCK-3T",
    "outputId": "4671e6c4-50c9-4918-955e-6a2e93ab2497"
   },
   "outputs": [
    {
     "data": {
      "text/plain": [
       "tensor([ 1.7175,  0.3637,  1.6780, -1.2618, -0.9456,  0.3531, -0.3559, -0.2576,\n",
       "         0.0915, -0.8804, -1.4876,  0.4465,  0.4259, -0.9545,  1.5127, -1.7639,\n",
       "         0.2623,  0.1800,  0.7994,  0.9507,  2.3121,  1.5477,  1.9696, -1.0529,\n",
       "        -0.4406, -2.3565,  0.4124, -0.4885,  0.5305,  0.4308, -1.6650,  0.9653,\n",
       "         1.2360, -1.1832, -0.9120, -0.5009,  1.0412,  0.5392,  0.0892,  0.7593,\n",
       "         0.2841,  0.6088, -1.1954,  0.7123, -1.1901, -0.2170,  0.3037,  1.9473,\n",
       "        -0.9910,  1.2295, -1.1084,  0.3245,  0.8388, -0.6033,  0.9179, -0.8800,\n",
       "         0.7070,  0.9582,  1.8234, -0.5296, -0.9630, -0.6102,  0.6808, -0.0265,\n",
       "        -0.1867,  0.3153, -0.3428,  0.8937,  1.1778,  0.9223,  1.2382, -0.7491,\n",
       "        -0.4193, -0.7162,  1.4307, -2.0769,  1.6984, -0.5623,  0.7879, -2.0587,\n",
       "        -1.1273, -0.1293,  0.0845,  0.6372,  0.1758,  0.6051, -0.7981, -2.2557,\n",
       "         1.3111, -0.2460, -0.2305, -0.1744,  1.1810,  0.3422, -1.3720,  1.0792,\n",
       "         1.2442, -0.3061, -0.2745, -0.1269,  0.4635,  1.5878,  0.8529, -0.4835,\n",
       "        -0.5419, -1.1711, -1.4067,  0.0601, -0.7961,  2.1820,  1.8628, -0.5361,\n",
       "         0.6124,  0.4943,  0.4358, -0.3086,  1.8023, -1.0501, -1.4788, -0.2039,\n",
       "        -0.0330,  1.1194, -1.3528,  1.6414,  0.0122,  1.4622,  0.1672, -0.3654],\n",
       "       device='cuda:0', grad_fn=<SelectBackward>)"
      ]
     },
     "execution_count": 59,
     "metadata": {
      "tags": []
     },
     "output_type": "execute_result"
    }
   ],
   "source": [
    "z2[800]"
   ]
  },
  {
   "cell_type": "code",
   "execution_count": 0,
   "metadata": {
    "colab": {
     "base_uri": "https://localhost:8080/",
     "height": 459
    },
    "colab_type": "code",
    "executionInfo": {
     "elapsed": 981,
     "status": "ok",
     "timestamp": 1582379691212,
     "user": {
      "displayName": "harry songhurst",
      "photoUrl": "",
      "userId": "00629498674930426914"
     },
     "user_tz": 0
    },
    "id": "_Kquoi3sLRsH",
    "outputId": "026f9867-bdfc-4288-9c4d-b47d2646476e"
   },
   "outputs": [
    {
     "data": {
      "text/plain": [
       "tensor([ 7.2563e-04, -3.8439e-04,  5.2679e-04, -3.0816e-04, -1.0588e-03,\n",
       "        -1.4754e-03,  1.4949e-04,  3.8397e-04,  3.3352e-04,  1.2172e-03,\n",
       "         7.6210e-04,  3.0668e-03,  1.6653e-03, -1.2183e-03,  2.0839e-03,\n",
       "         5.4473e-04, -5.2100e-04, -2.0736e-04, -6.8004e-04, -2.3782e-05,\n",
       "        -1.3027e-03, -8.9610e-04, -9.2745e-05,  7.7438e-04, -9.8616e-04,\n",
       "        -4.1318e-04, -1.6440e-03, -5.4961e-04,  4.3058e-04, -1.1849e-03,\n",
       "        -7.7879e-04,  3.4511e-04,  1.2877e-03, -8.4513e-04, -2.2471e-04,\n",
       "         5.0306e-04, -1.2747e-03, -5.5116e-04,  1.6943e-03,  1.6296e-04,\n",
       "         8.0574e-04, -7.5531e-04,  1.8787e-04,  2.0057e-04, -1.4373e-03,\n",
       "         3.7894e-04,  9.8321e-04,  2.4748e-04, -9.6601e-04, -1.7834e-04,\n",
       "         1.2473e-03, -1.0285e-03,  2.3110e-03, -7.3493e-04,  1.0212e-03,\n",
       "        -2.5636e-04, -1.6207e-03,  2.1797e-04, -2.1124e-03,  6.5678e-04,\n",
       "         1.1778e-03,  1.4867e-03, -6.6459e-04,  7.4720e-04, -1.2553e-03,\n",
       "        -7.0524e-04, -1.0516e-03, -9.8020e-04, -1.2757e-03,  3.6883e-04,\n",
       "        -7.8487e-04,  9.0921e-04,  6.2761e-04,  1.9601e-04,  2.6934e-03,\n",
       "         1.1435e-03,  1.2624e-03, -2.1793e-03,  8.7053e-04,  1.1725e-03,\n",
       "        -4.7326e-05, -8.5491e-04,  1.2377e-03, -2.0671e-04, -6.5354e-04,\n",
       "        -3.2568e-04,  6.0105e-04, -6.4254e-05,  1.4305e-06, -7.5436e-04,\n",
       "        -1.1863e-03,  1.3763e-04,  8.4817e-04, -1.3780e-03,  1.2851e-03,\n",
       "        -2.1350e-04, -4.2415e-04,  5.7891e-04,  7.0366e-04, -7.8815e-04,\n",
       "         3.8064e-04,  5.6839e-04, -5.1224e-04, -6.2874e-04, -1.3930e-04,\n",
       "         1.5774e-03,  1.9866e-04,  1.2607e-03, -4.5431e-04,  9.3293e-04,\n",
       "         4.3964e-04, -1.3463e-03, -2.9325e-05, -1.4359e-03, -8.4728e-05,\n",
       "        -2.7427e-04,  2.0373e-04,  1.5221e-03, -7.2241e-04,  2.2247e-03,\n",
       "         2.5983e-04, -8.6188e-04,  1.6072e-03,  5.6338e-04, -1.5868e-03,\n",
       "         2.1386e-04, -1.8239e-05, -4.9448e-04], device='cuda:0')"
      ]
     },
     "execution_count": 63,
     "metadata": {
      "tags": []
     },
     "output_type": "execute_result"
    }
   ],
   "source": [
    "(z1[800].detach() - z1[808].detach())"
   ]
  }
 ],
 "metadata": {
  "accelerator": "GPU",
  "colab": {
   "collapsed_sections": [],
   "name": "UNet Testing.ipynb",
   "provenance": [
    {
     "file_id": "1j75Hdoy8mePf8yKT98wowU_BlqvF_UO3",
     "timestamp": 1582368463626
    },
    {
     "file_id": "1soYC13f4fK8jQTXUYoKj8ZOpWu7vpVYU",
     "timestamp": 1582035152480
    },
    {
     "file_id": "19sbMl5mnIXzMvzvV1nio7abSlG5MUnil",
     "timestamp": 1581774068113
    },
    {
     "file_id": "1wES2gtJLmyTwcUFC47YbBTRpumf8hWkz",
     "timestamp": 1581425769718
    },
    {
     "file_id": "1vh9GJ2932AgfXeV0apl4uVOUWQgrvjzs",
     "timestamp": 1581339007820
    },
    {
     "file_id": "1eAwuH2cZMjDsIYziMU7gfuWUOFlhoDWp",
     "timestamp": 1581200716214
    },
    {
     "file_id": "1RYla8JWGzyh5JYOUBfRkRW4bBLDfU-CR",
     "timestamp": 1581168818609
    }
   ]
  },
  "kernelspec": {
   "display_name": "Python 3",
   "language": "python",
   "name": "python3"
  },
  "language_info": {
   "codemirror_mode": {
    "name": "ipython",
    "version": 3
   },
   "file_extension": ".py",
   "mimetype": "text/x-python",
   "name": "python",
   "nbconvert_exporter": "python",
   "pygments_lexer": "ipython3",
   "version": "3.6.5"
  }
 },
 "nbformat": 4,
 "nbformat_minor": 1
}
