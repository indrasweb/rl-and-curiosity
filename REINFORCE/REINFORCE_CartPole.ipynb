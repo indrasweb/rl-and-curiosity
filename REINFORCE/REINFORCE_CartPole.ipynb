{
 "cells": [
  {
   "cell_type": "code",
   "execution_count": 0,
   "metadata": {
    "colab": {},
    "colab_type": "code",
    "id": "dZmBmHSCwNRk"
   },
   "outputs": [],
   "source": [
    "import gym\n",
    "import numpy as np\n",
    "import torch as T\n",
    "import torch.nn as nn\n",
    "from torch.distributions import Categorical\n",
    "from torch.optim import Adam\n",
    "from torch.optim.lr_scheduler import LambdaLR\n",
    "\n",
    "ENV_NAME = 'CartPole-v1'\n",
    "TOTAL_TIMESTEPS = 5e5  # 500k timesteps (frames of experience)\n",
    "GAMMA = 0.99           # reward discounting coefficient\n",
    "BATCH_SIZE = 8192      # num transitions in each minibatch\n",
    "TOTAL_UPDATES = int(TOTAL_TIMESTEPS//BATCH_SIZE)  # weight updates\n",
    "DEVICE = T.device('cuda' if T.cuda.is_available() else 'cpu')"
   ]
  },
  {
   "cell_type": "markdown",
   "metadata": {
    "colab_type": "text",
    "id": "Z0VaLTiryZut"
   },
   "source": [
    "# Neural Net Definition"
   ]
  },
  {
   "cell_type": "code",
   "execution_count": 0,
   "metadata": {
    "colab": {},
    "colab_type": "code",
    "id": "-NyhPYpGgmK2"
   },
   "outputs": [],
   "source": [
    "class ACTOR(nn.Module):\n",
    "    def __init__(self, in_shape, num_actions):\n",
    "        super().__init__()\n",
    "        # input is uni-dimensional for cartpole\n",
    "        self.net = nn.Sequential(\n",
    "            nn.Linear(in_shape, 128),\n",
    "            nn.ReLU(True),\n",
    "            nn.Linear(128, 256),\n",
    "            nn.ReLU(True),\n",
    "            nn.Linear(256, num_actions),\n",
    "        )\n",
    "    def forward(self, x):\n",
    "        return self.net(x)"
   ]
  },
  {
   "cell_type": "markdown",
   "metadata": {
    "colab_type": "text",
    "id": "QHOC8kVaxsqJ"
   },
   "source": [
    "# Main"
   ]
  },
  {
   "cell_type": "code",
   "execution_count": 63,
   "metadata": {
    "colab": {
     "base_uri": "https://localhost:8080/",
     "height": 51
    },
    "colab_type": "code",
    "id": "4vpp2XCBMdh_",
    "outputId": "0f6be507-0d15-4a36-bf0c-602f5e20618b"
   },
   "outputs": [
    {
     "name": "stderr",
     "output_type": "stream",
     "text": [
      "/usr/local/lib/python3.6/dist-packages/gym/logger.py:30: UserWarning: \u001b[33mWARN: Box bound precision lowered by casting to float32\u001b[0m\n",
      "  warnings.warn(colorize('%s: %s'%('WARN', msg % args), 'yellow'))\n"
     ]
    }
   ],
   "source": [
    "env = gym.make(ENV_NAME)\n",
    "in_dim = env.observation_space.shape[0]\n",
    "policy_dim = env.action_space.n\n",
    "\n",
    "total_steps = 0\n",
    "actor = ACTOR(in_dim, policy_dim).to(DEVICE)\n",
    "optimizer = Adam(actor.parameters(), 5e-3)\n",
    "scheduler = LambdaLR(optimizer, lambda i: 1 - i / TOTAL_UPDATES)\n",
    "\n",
    "all_log_rwd = []  # (num_steps, reward)"
   ]
  },
  {
   "cell_type": "code",
   "execution_count": 64,
   "metadata": {
    "colab": {
     "base_uri": "https://localhost:8080/",
     "height": 1000
    },
    "colab_type": "code",
    "id": "mUEzq88WsM1l",
    "outputId": "0cb1fbef-34e9-4dcc-bf3b-75c8da6fda1b"
   },
   "outputs": [
    {
     "name": "stdout",
     "output_type": "stream",
     "text": [
      "RWD: 21.81\tL: 0.000402\t[8192]\n",
      "RWD: 32.39\tL: -0.013759\t[16384]\n",
      "RWD: 44.28\tL: -0.011191\t[24576]\n",
      "RWD: 55.66\tL: -0.011069\t[32768]\n",
      "RWD: 68.53\tL: -0.010843\t[40960]\n",
      "RWD: 81.68\tL: -0.003259\t[49152]\n",
      "RWD: 106.43\tL: -0.008539\t[57344]\n",
      "RWD: 137.71\tL: -0.012814\t[65536]\n",
      "RWD: 150.41\tL: -0.002207\t[73728]\n",
      "RWD: 168.35\tL: -0.004205\t[81920]\n",
      "RWD: 215.99\tL: -0.005476\t[90112]\n",
      "RWD: 253.05\tL: -0.003661\t[98304]\n",
      "RWD: 291.13\tL: -0.007353\t[106496]\n",
      "RWD: 321.26\tL: -0.011692\t[114688]\n",
      "RWD: 316.64\tL: -0.005049\t[122880]\n",
      "RWD: 313.37\tL: -0.013514\t[131072]\n",
      "RWD: 317.07\tL: -0.005863\t[139264]\n",
      "RWD: 336.72\tL: -0.008898\t[147456]\n",
      "RWD: 358.31\tL: -0.010199\t[155648]\n",
      "RWD: 379.41\tL: -0.007397\t[163840]\n",
      "RWD: 390.95\tL: -0.015681\t[172032]\n",
      "RWD: 399.53\tL: -0.010039\t[180224]\n",
      "RWD: 389.69\tL: -0.013091\t[188416]\n",
      "RWD: 377.72\tL: -0.019477\t[196608]\n",
      "RWD: 382.31\tL: -0.016575\t[204800]\n",
      "RWD: 380.71\tL: -0.014415\t[212992]\n",
      "RWD: 394.14\tL: -0.009376\t[221184]\n",
      "RWD: 411.59\tL: -0.006193\t[229376]\n",
      "RWD: 424.19\tL: 0.005866\t[237568]\n",
      "RWD: 395.47\tL: 0.000905\t[245760]\n",
      "RWD: 342.21\tL: 0.005320\t[253952]\n",
      "RWD: 243.65\tL: 0.005295\t[262144]\n",
      "RWD: 217.63\tL: 0.003239\t[270336]\n",
      "RWD: 230.01\tL: 0.003279\t[278528]\n",
      "RWD: 264.24\tL: -0.005584\t[286720]\n",
      "RWD: 307.28\tL: 0.004254\t[294912]\n",
      "RWD: 348.88\tL: 0.008446\t[303104]\n",
      "RWD: 383.22\tL: 0.003660\t[311296]\n",
      "RWD: 405.81\tL: -0.001781\t[319488]\n",
      "RWD: 418.9\tL: 0.003678\t[327680]\n",
      "RWD: 398.95\tL: -0.004233\t[335872]\n",
      "RWD: 385.21\tL: 0.004576\t[344064]\n",
      "RWD: 371.04\tL: -0.005339\t[352256]\n",
      "RWD: 356.43\tL: 0.010105\t[360448]\n",
      "RWD: 345.43\tL: -0.003575\t[368640]\n",
      "RWD: 346.06\tL: -0.005975\t[376832]\n",
      "RWD: 350.62\tL: -0.017376\t[385024]\n",
      "RWD: 362.53\tL: -0.007079\t[393216]\n",
      "RWD: 366.96\tL: -0.006841\t[401408]\n",
      "RWD: 350.6\tL: -0.012365\t[409600]\n",
      "RWD: 334.28\tL: -0.006937\t[417792]\n",
      "RWD: 312.43\tL: -0.008766\t[425984]\n",
      "RWD: 300.05\tL: -0.008626\t[434176]\n",
      "RWD: 305.65\tL: -0.003314\t[442368]\n",
      "RWD: 316.15\tL: -0.014426\t[450560]\n",
      "RWD: 337.77\tL: -0.011667\t[458752]\n",
      "RWD: 364.22\tL: -0.011039\t[466944]\n",
      "RWD: 397.53\tL: -0.005981\t[475136]\n",
      "RWD: 416.99\tL: 0.001477\t[483328]\n",
      "RWD: 439.15\tL: -0.008048\t[491520]\n"
     ]
    }
   ],
   "source": [
    "def mk_torch(x):\n",
    "    x = T.from_numpy(x).float()\n",
    "    x = x.to(DEVICE)\n",
    "    return x\n",
    "\n",
    "for i_update in range(1, TOTAL_UPDATES):\n",
    "    \n",
    "    ob = mk_torch(env.reset())\n",
    "    logps, rwds, advs = [], [], []\n",
    "    l = 0  # length of episode == score\n",
    "\n",
    "    for _ in range(BATCH_SIZE):  # collect minibatch\n",
    "        logits = actor(ob)\n",
    "        dist = Categorical(logits=logits)\n",
    "        act = dist.sample()\n",
    "        logp = dist.log_prob(act)\n",
    "        ob, rwd, done, info = env.step(act.cpu().numpy())\n",
    "        ob=mk_torch(ob)\n",
    "        logps.append(logp)\n",
    "        rwds.append(rwd)\n",
    "        l += 1\n",
    "        total_steps += 1\n",
    "        if done:\n",
    "            rwds[-1] = 0\n",
    "            ob = mk_torch(env.reset())\n",
    "            all_log_rwd.append((total_steps, l))\n",
    "            l=0\n",
    "            # discount episode rewards\n",
    "            for i in reversed(range(len(rwds)-1)):\n",
    "                rwds[i] += 0.99 * rwds[i+1]\n",
    "            advs.extend(rwds)\n",
    "            rwds = []\n",
    "\n",
    "    for i in reversed(range(len(rwds)-1)):\n",
    "        rwds[i] += 0.99 * rwds[i+1]\n",
    "    advs.extend(rwds)\n",
    "\n",
    "    # policy gradient\n",
    "    logps = T.stack(logps).to(DEVICE)\n",
    "    advs = T.from_numpy(np.stack(advs)).to(DEVICE)\n",
    "    adv = (advs - advs.mean()) / (advs.std() + 1e-8)\n",
    "    loss = -(logps * adv).mean()\n",
    "\n",
    "    # step\n",
    "    optimizer.zero_grad()\n",
    "    loss.backward()\n",
    "    nn.utils.clip_grad_norm_(actor.parameters(), 0.5)\n",
    "    optimizer.step()\n",
    "    scheduler.step(i_update)\n",
    "\n",
    "    # stats\n",
    "    sma = sum(x[1] for x in all_log_rwd[-100:])/100\n",
    "    print(f'RWD: {sma}\\tL: {loss.item():2f}\\t[{total_steps}]')"
   ]
  },
  {
   "cell_type": "code",
   "execution_count": 0,
   "metadata": {
    "colab": {},
    "colab_type": "code",
    "id": "4F464KPHWezd"
   },
   "outputs": [],
   "source": [
    "import matplotlib.pyplot as plt\n",
    "import seaborn as sns\n",
    "import pandas as pd\n",
    "import matplotlib.ticker as ticker\n",
    "sns.set()"
   ]
  },
  {
   "cell_type": "code",
   "execution_count": 94,
   "metadata": {
    "colab": {
     "base_uri": "https://localhost:8080/",
     "height": 318
    },
    "colab_type": "code",
    "id": "yKOQtkqC-FOZ",
    "outputId": "1180db2a-9682-4ef6-c76b-37923bc8259a"
   },
   "outputs": [
    {
     "data": {
      "image/png": "[encoded data removed]",
      "text/plain": [
       "<Figure size 288x288 with 2 Axes>"
      ]
     },
     "metadata": {
      "tags": []
     },
     "output_type": "display_data"
    }
   ],
   "source": [
    "# compute rolling avg and std\n",
    "df = pd.DataFrame(all_log_rwd, columns =['Frames', 'Reward'])\n",
    "sma_y = df['Reward'].rolling(500).mean()\n",
    "std_y = df['Reward'].rolling(500).std()\n",
    "\n",
    "# plot with seaborn\n",
    "fig, ax = plt.subplots(figsize=(4,4))\n",
    "ax2 = ax.twiny()\n",
    "ax.set_xlabel('Env Steps')\n",
    "ax.set_ylabel('Reward')\n",
    "clrs = sns.color_palette(\"husl\", 8)\n",
    "\n",
    "# fill standard deviation\n",
    "ax.plot(df['Frames'], sma_y, c=clrs[0])\n",
    "ax.fill_between(df['Frames'], sma_y-std_y,  sma_y+std_y, \n",
    "                alpha=0.3, facecolor=clrs[0]) \n",
    "\n",
    "# make x axis nice\n",
    "xlabels = [f'{int(x)}K' for x in ax.get_xticks()/1e3]\n",
    "ax.set_xticklabels(xlabels)\n",
    "\n",
    "ax2.plot(range(len(all_log_rwd)), np.ones(len(all_log_rwd)), alpha=0) # Create a dummy plot\n",
    "ax2.set_xlabel('Weight Updates')\n",
    "\n",
    "plt.savefig('cartpole_fig_reinforce.png', dpi=300, pad_inches=0, bbox_inches = 'tight')\n",
    "plt.show()"
   ]
  },
  {
   "cell_type": "code",
   "execution_count": 0,
   "metadata": {
    "colab": {},
    "colab_type": "code",
    "id": "7gMZv47QYQ8o"
   },
   "outputs": [],
   "source": [
    "from google.colab import files\n",
    "\n",
    "files.download('cartpole_fig_reinforce.png')"
   ]
  },
  {
   "cell_type": "code",
   "execution_count": 0,
   "metadata": {
    "colab": {},
    "colab_type": "code",
    "id": "hgLsg32vY2FY"
   },
   "outputs": [],
   "source": []
  }
 ],
 "metadata": {
  "accelerator": "GPU",
  "colab": {
   "collapsed_sections": [],
   "name": "REINFORCE CartPole.ipynb",
   "provenance": []
  },
  "kernelspec": {
   "display_name": "Python 3",
   "language": "python",
   "name": "python3"
  },
  "language_info": {
   "codemirror_mode": {
    "name": "ipython",
    "version": 3
   },
   "file_extension": ".py",
   "mimetype": "text/x-python",
   "name": "python",
   "nbconvert_exporter": "python",
   "pygments_lexer": "ipython3",
   "version": "3.6.5"
  }
 },
 "nbformat": 4,
 "nbformat_minor": 1
}
