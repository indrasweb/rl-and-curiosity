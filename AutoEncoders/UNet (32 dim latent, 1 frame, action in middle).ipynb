{
 "cells": [
  {
   "cell_type": "code",
   "execution_count": null,
   "metadata": {
    "colab": {
     "base_uri": "https://localhost:8080/",
     "height": 496
    },
    "colab_type": "code",
    "executionInfo": {
     "elapsed": 4665,
     "status": "ok",
     "timestamp": 1582471171607,
     "user": {
      "displayName": "Harry Songhurst",
      "photoUrl": "https://lh3.googleusercontent.com/a-/AAuE7mBuJz9L_3sFdWpxVsMTwIkpEG2dttMVXKv3NVnR=s64",
      "userId": "17177898107918428203"
     },
     "user_tz": 0
    },
    "id": "MiWy-wSlg65h",
    "outputId": "5f42c6de-ba18-482b-e6b0-1866a727d4ca"
   },
   "outputs": [],
   "source": [
    " !pip install stable-baselines==2.9.0"
   ]
  },
  {
   "cell_type": "code",
   "execution_count": null,
   "metadata": {
    "colab": {
     "base_uri": "https://localhost:8080/",
     "height": 199
    },
    "colab_type": "code",
    "executionInfo": {
     "elapsed": 11400,
     "status": "ok",
     "timestamp": 1582471178361,
     "user": {
      "displayName": "Harry Songhurst",
      "photoUrl": "https://lh3.googleusercontent.com/a-/AAuE7mBuJz9L_3sFdWpxVsMTwIkpEG2dttMVXKv3NVnR=s64",
      "userId": "17177898107918428203"
     },
     "user_tz": 0
    },
    "id": "dZmBmHSCwNRk",
    "outputId": "d4dbb659-e300-4e83-ed72-1dca31bf3852"
   },
   "outputs": [],
   "source": [
    "import numpy as np\n",
    "\n",
    "import datetime\n",
    "import time\n",
    "from collections import deque\n",
    "\n",
    "import torch as T\n",
    "import torch.nn as nn\n",
    "from torch.autograd import Variable\n",
    "from torch.optim import Adam\n",
    "from torch.distributions import Categorical\n",
    "from torch.optim.lr_scheduler import LambdaLR\n",
    "from torchsummary import summary\n",
    "\n",
    "from stable_baselines.common.misc_util import set_global_seeds\n",
    "from stable_baselines.common.cmd_util import make_atari_env\n",
    "from stable_baselines.common.vec_env import VecFrameStack\n",
    "\n",
    "import matplotlib.pyplot as plt\n",
    "import seaborn as sns"
   ]
  },
  {
   "cell_type": "code",
   "execution_count": 0,
   "metadata": {
    "colab": {},
    "colab_type": "code",
    "id": "ovKc19B7wQSv"
   },
   "outputs": [],
   "source": [
    "ENV_NAME = 'BreakoutNoFrameskip-v4'\n",
    "NENV = 8\n",
    "ROLLOUT_LENGTH = 128\n",
    "LATENT_SIZE = 32\n",
    "MB_SPLIT = 4\n",
    "MB_EPOCHS = 4\n",
    "TOTAL_TIMESTEPS = 5e6\n",
    "GAMMA = 0.99\n",
    "CLIP = 0.2\n",
    "DEVICE = T.device('cuda' if T.cuda.is_available() else 'cpu')\n",
    "SEED = 420 \n",
    "set_global_seeds(SEED)\n",
    "sns.set()  # make it pretty"
   ]
  },
  {
   "cell_type": "markdown",
   "metadata": {
    "colab_type": "text",
    "id": "PNveivUPBrGP"
   },
   "source": [
    "# Environment"
   ]
  },
  {
   "cell_type": "code",
   "execution_count": 11,
   "metadata": {
    "colab": {
     "base_uri": "https://localhost:8080/",
     "height": 51
    },
    "colab_type": "code",
    "executionInfo": {
     "elapsed": 3525,
     "status": "ok",
     "timestamp": 1582471197884,
     "user": {
      "displayName": "Harry Songhurst",
      "photoUrl": "https://lh3.googleusercontent.com/a-/AAuE7mBuJz9L_3sFdWpxVsMTwIkpEG2dttMVXKv3NVnR=s64",
      "userId": "17177898107918428203"
     },
     "user_tz": 0
    },
    "id": "DqEfdOszQ9kw",
    "outputId": "3d045d1f-22ae-47b8-bac9-696148691c47"
   },
   "outputs": [
    {
     "name": "stdout",
     "output_type": "stream",
     "text": [
      "Observation shape:  (4, 84, 84)\n",
      "Number of actions:  4\n"
     ]
    }
   ],
   "source": [
    "env = make_atari_env(ENV_NAME, num_env=NENV, seed=SEED)\n",
    "env = VecFrameStack(env, n_stack=4)\n",
    "\n",
    "in_dim = env.observation_space.shape\n",
    "in_dim=(in_dim[2],in_dim[0],in_dim[1])  # torch ordering\n",
    "num_actions = env.action_space.n\n",
    "\n",
    "print('Observation shape: ', in_dim)\n",
    "print('Number of actions: ', num_actions)"
   ]
  },
  {
   "cell_type": "markdown",
   "metadata": {
    "colab_type": "text",
    "id": "Z0VaLTiryZut"
   },
   "source": [
    "# CNNs"
   ]
  },
  {
   "cell_type": "code",
   "execution_count": 0,
   "metadata": {
    "colab": {},
    "colab_type": "code",
    "id": "NBln27mj6Yw4"
   },
   "outputs": [],
   "source": [
    "def conv_size(net, in_shape):\n",
    "    \"\"\" util for calculating flat output shape of a given net \"\"\"\n",
    "    x = Variable(T.rand(1, *in_shape))\n",
    "    o = net(x)\n",
    "    b = (-1, o.size(1), o.size(2), o.size(3))\n",
    "    return b, o.data.view(1, -1).size(1)"
   ]
  },
  {
   "cell_type": "code",
   "execution_count": 0,
   "metadata": {
    "colab": {},
    "colab_type": "code",
    "id": "GOz44BriuvHP"
   },
   "outputs": [],
   "source": [
    "def ConvReLU_down(in_channels, out_channels, kernel, stride):\n",
    "    return nn.Sequential(\n",
    "        nn.Conv2d(in_channels, out_channels, kernel, stride),\n",
    "        nn.ReLU(inplace=True),\n",
    "    )\n",
    "\n",
    "def ConvReLU_up(in_channels, out_channels, kernel, stride):\n",
    "    return nn.Sequential(\n",
    "        nn.ConvTranspose2d(in_channels, out_channels, kernel, stride),\n",
    "        nn.ReLU(inplace=True)\n",
    "    )\n",
    "\n",
    "class UNet(nn.Module):\n",
    "    \"\"\" This is used to *represent* the environment (perception).\n",
    "        The latent space of this autoencoder is uni-dimensional.\n",
    "    \"\"\"\n",
    "    def __init__(self, input_shape, num_actions, latent_size):\n",
    "        super().__init__()\n",
    "        self.c, self.h, self.w = input_shape\n",
    "        self.num_actions = num_actions\n",
    "        self.latent_size = latent_size\n",
    "\n",
    "        self.down_1 = ConvReLU_down(self.c, 64, 8, 4)\n",
    "        self.down_2 = ConvReLU_down(64, 32, 4, 2)\n",
    "        self.down_3 = ConvReLU_down(32, 16, 4, 1)\n",
    "\n",
    "        encoder_conv = nn.Sequential(self.down_1, self.down_2, self.down_3)\n",
    "        self.conv_x, self.conv_f = conv_size(encoder_conv, input_shape)\n",
    "\n",
    "        self.down_linear = nn.Sequential(\n",
    "            nn.Flatten(),\n",
    "            nn.Linear(self.conv_f, self.latent_size)\n",
    "        )\n",
    "\n",
    "        self.up_linear = nn.Sequential(\n",
    "            nn.Linear(self.latent_size, self.conv_f),\n",
    "            nn.ReLU(True)\n",
    "        )\n",
    "\n",
    "        self.up_3 = ConvReLU_up(16*2+self.num_actions, 32, 4, 1)\n",
    "        self.up_2 = ConvReLU_up(32*2, 64, 4, 2)\n",
    "        self.up_1 = nn.ConvTranspose2d(64*2, 1, 8, 4)\n",
    "\n",
    "    def encode(self, x):\n",
    "        \"\"\" *represent* the environment in latent space\"\"\"\n",
    "        x = self.down_1(x)\n",
    "        x = self.down_2(x)\n",
    "        x = self.down_3(x)\n",
    "        x = self.down_linear(x)\n",
    "        return x  # latent code\n",
    "\n",
    "    def one_hot_3d_action(self, actions):\n",
    "        _,_,ch,cw = self.conv_x\n",
    "        cn = len(actions)\n",
    "        z = np.zeros((len(actions), self.num_actions, ch, cw), dtype=np.float32)\n",
    "        for i in range(cn):\n",
    "            z[i,actions[i],:,:] = 1.0\n",
    "        z = T.from_numpy(z).to(DEVICE)\n",
    "        return z\n",
    "\n",
    "    def forward(self, x, actions=None):\n",
    "        \"\"\" actions is a list of ints describing the actions taken \"\"\"\n",
    "        d1 = self.down_1(x)\n",
    "        d2 = self.down_2(d1)\n",
    "        d3 = self.down_3(d2)\n",
    "        latent = self.down_linear(d3)\n",
    "        \n",
    "        x = self.up_linear(latent)        \n",
    "        x = x.view(self.conv_x)\n",
    "        # cat contractive path\n",
    "        x = T.cat((x, d3), dim=1)\n",
    "        # add information about which action we took\n",
    "        if actions is None:  # for torchsummary\n",
    "            z_action = self.one_hot_3d_action([0]*x.size(0))\n",
    "        else:\n",
    "            z_action = self.one_hot_3d_action(actions)\n",
    "        x = T.cat((x, z_action), dim=1)\n",
    "\n",
    "        x = self.up_3(x)\n",
    "        x = T.cat((x, d2), dim=1)\n",
    "        x = self.up_2(x)\n",
    "        x = T.cat((x, d1), dim=1)\n",
    "        x = self.up_1(x)\n",
    "\n",
    "        return x, latent"
   ]
  },
  {
   "cell_type": "code",
   "execution_count": 0,
   "metadata": {
    "colab": {},
    "colab_type": "code",
    "id": "LTuW2HWsuFs6"
   },
   "outputs": [],
   "source": [
    "class ACTOR(nn.Module):\n",
    "    \"\"\" This is used to learn *behaviour* from our environment representation.\n",
    "        ActorCriticCritic uses two value heads/critics. One criticises the \n",
    "        extrinsic reward. The other criticises the intrinsic reward.\n",
    "    \"\"\"\n",
    "    def __init__(self, num_inputs, num_actions):\n",
    "        super().__init__()\n",
    "\n",
    "        self.linear = nn.Sequential(\n",
    "            nn.Linear(num_inputs, 1024),\n",
    "            nn.ReLU(True),\n",
    "            nn.Linear(1024, 512),\n",
    "            nn.ReLU(True)\n",
    "        )\n",
    "\n",
    "        self.actor = nn.Linear(512, num_actions)\n",
    "\n",
    "    def forward(self, x):\n",
    "        x = self.linear(x)\n",
    "        return self.actor(x)\n",
    "\n",
    "class CRITIC(nn.Module):\n",
    "    \"\"\" This is used to learn *behaviour* from our environment representation.\n",
    "        ActorCriticCritic uses two value heads/critics. One criticises the \n",
    "        extrinsic reward. The other criticises the intrinsic reward.\n",
    "    \"\"\"\n",
    "    def __init__(self, num_inputs, num_actions):\n",
    "        super().__init__()\n",
    "\n",
    "        self.linear = nn.Sequential(\n",
    "            nn.Linear(num_inputs, 1024),\n",
    "            nn.ReLU(True),\n",
    "            nn.Linear(1024, 512),\n",
    "            nn.ReLU(True)\n",
    "        )\n",
    "\n",
    "        self.critic = nn.Linear(512, 1)\n",
    "\n",
    "    def forward(self, x):\n",
    "        x = self.linear(x)\n",
    "        return self.critic(x)"
   ]
  },
  {
   "cell_type": "markdown",
   "metadata": {
    "colab_type": "text",
    "id": "fsXOZOh64ciH"
   },
   "source": [
    "# Rollout handling"
   ]
  },
  {
   "cell_type": "code",
   "execution_count": 0,
   "metadata": {
    "colab": {},
    "colab_type": "code",
    "id": "A1gk4kwcR-yy"
   },
   "outputs": [],
   "source": [
    "class Rollouts:\n",
    "\n",
    "    def __init__(self):\n",
    "        self.empty_memory()\n",
    "\n",
    "    def store_transition(self, ob, logp, action, reward, value, done, info):\n",
    "        self.obs.append(ob)\n",
    "        self.logps.append(logp)\n",
    "        self.actions.append(action)\n",
    "        self.rewards.append(reward)\n",
    "        self.values.append(value)\n",
    "        self.dones.append(done)\n",
    "        for i in info:\n",
    "            if i.get('episode'): \n",
    "                self.infos['l'].append(i['episode']['l'])\n",
    "                self.infos['r'].append(i['episode']['r'])\n",
    "\n",
    "    def empty_memory(self):\n",
    "        self.obs      = []\n",
    "        self.obs_d1   = []  # t+1\n",
    "        self.obs_d2   = []  # t+2\n",
    "        self.logps    = []\n",
    "        self.actions  = []\n",
    "        self.rewards  = []\n",
    "        self.values   = []\n",
    "        self.dones    = []\n",
    "        self.infos   = {'l':[], 'r':[]}\n",
    "\n",
    "    def preprocess_obs(self, arr):\n",
    "        \"\"\" Normalize and permute array :param arr: to make it Torch compatible \"\"\"\n",
    "        return np.moveaxis(arr.astype(np.float32) / 255., -1, 1)\n",
    "\n",
    "    def flatten(self, x, flat_n, to_tensor=True):\n",
    "        \"\"\" flatten x *in place* to (flat_n, ...)\n",
    "            :param to_tensor: if true, x is cast to a torch tenor \"\"\"\n",
    "        x = np.asarray(x, np.float32).reshape((flat_n,)+x[0].shape[1:])\n",
    "        if to_tensor: \n",
    "            return T.from_numpy(x).to(DEVICE)\n",
    "        return x\n",
    "\n",
    "    def flatten_rollout(self):\n",
    "        \"\"\" flatten trajectory buffers to (NENV*ROLLOUT_LENGTH-1, ...)\"\"\"\n",
    "        N = (ROLLOUT_LENGTH-1)*NENV\n",
    "        self.obs     = self.flatten(self.obs, N)\n",
    "        self.obs_d1  = self.flatten(self.obs_d1, N)\n",
    "        self.obs_d2  = self.flatten(self.obs_d2, N)\n",
    "        self.logps   = self.flatten(self.logps, N)\n",
    "        self.actions = self.flatten(self.actions, N)\n",
    "        self.rewards = self.flatten(self.rewards, N)\n",
    "        self.values  = self.flatten(self.values, N)\n",
    "\n",
    "\n",
    "    def generator(self, random=False):\n",
    "\n",
    "        ob = self.preprocess_obs(env.reset())  # initial observation\n",
    "        rollout_num = 0\n",
    "\n",
    "        while True:\n",
    "            rollout_num += 1\n",
    "            \n",
    "            with T.no_grad():\n",
    "                tob = T.from_numpy(ob).to(DEVICE)\n",
    "                z1 = ae_delta_1.encode(tob)      # latent repr of St+1\n",
    "                z2 = ae_delta_2.encode(tob)      # latent repr of St+2\n",
    "                z_join = T.cat((z1,z2), dim=1)   # joint latent repr\n",
    "\n",
    "                pi     = actor(z_join)           # action scores\n",
    "                v      = critic(z_join)          # value\n",
    "                dist   = Categorical(logits=pi)  # to multinomial (discreet)\n",
    "                action = dist.sample()\n",
    "                if random: action = T.randint_like(action, 0, num_actions)\n",
    "                log_pi = dist.log_prob(action).cpu().numpy()\n",
    "                action = action.cpu().numpy()\n",
    "                v = v.cpu().numpy()[:, 0]\n",
    "            \n",
    "            new_ob, reward, done, info = env.step(action)\n",
    "            self.store_transition(ob, log_pi, action, reward, v, done, info)\n",
    "            ob = self.preprocess_obs(new_ob)\n",
    "\n",
    "            if rollout_num % ROLLOUT_LENGTH == 0:\n",
    "                # bootstrap reward from critic predicted value function\n",
    "                # note that v is V(S_{t+1}) - TD(1) (one step returns)\n",
    "                with T.no_grad():\n",
    "                    tob = T.from_numpy(ob).to(DEVICE)\n",
    "                    z1 = ae_delta_1.encode(tob)      # latent repr of St+1\n",
    "                    z2 = ae_delta_2.encode(tob)      # latent repr of St+2\n",
    "                    z_join = T.cat((z1,z2), dim=1)   # joint latent repr\n",
    "                    flags = 1 - done   # should we bootstrap or not?\n",
    "                    v = critic(z_join)  # value of next state TD(1)\n",
    "                    v = v.cpu().numpy()[:, 0] * flags\n",
    "\n",
    "                # reward discounting / creit assignment\n",
    "                self.rewards[-1] += GAMMA * v\n",
    "                for i in reversed(range(ROLLOUT_LENGTH - 1)):\n",
    "                    flags = 1 - self.dones[i]\n",
    "                    self.rewards[i] += GAMMA * self.rewards[i+1] * flags\n",
    "\n",
    "                self.obs_d1 = self.obs[1:]         # for ae_delta_1\n",
    "                self.obs_d2 = self.obs[2:] + [ob]  # for ae_delta_2\n",
    "                del self.obs[-1]\n",
    "                del self.logps[-1]\n",
    "                del self.actions[-1]\n",
    "                del self.values[-1]\n",
    "                del self.rewards[-1]\n",
    "\n",
    "                # reshape and cast to torch tensors (rollouts)\n",
    "                self.flatten_rollout()\n",
    "                yield self.obs, self.obs_d1, self.obs_d2, self.logps, self.actions, self.values, self.rewards, self.infos\n",
    "                self.empty_memory()"
   ]
  },
  {
   "cell_type": "markdown",
   "metadata": {
    "colab_type": "text",
    "id": "2Vqc0ebOkJFZ"
   },
   "source": [
    "# Train"
   ]
  },
  {
   "cell_type": "code",
   "execution_count": 16,
   "metadata": {
    "colab": {
     "base_uri": "https://localhost:8080/",
     "height": 547
    },
    "colab_type": "code",
    "executionInfo": {
     "elapsed": 762,
     "status": "ok",
     "timestamp": 1582471200986,
     "user": {
      "displayName": "Harry Songhurst",
      "photoUrl": "https://lh3.googleusercontent.com/a-/AAuE7mBuJz9L_3sFdWpxVsMTwIkpEG2dttMVXKv3NVnR=s64",
      "userId": "17177898107918428203"
     },
     "user_tz": 0
    },
    "id": "Wafv_YXj4ZP_",
    "outputId": "90bbd1b4-eadb-4402-8c25-a8e3baf376fa"
   },
   "outputs": [
    {
     "name": "stderr",
     "output_type": "stream",
     "text": [
      "/usr/local/lib/python3.6/dist-packages/torch/serialization.py:360: UserWarning: Couldn't retrieve source code for container of type UNet. It won't be checked for correctness upon loading.\n",
      "  \"type \" + obj.__name__ + \". It won't be checked \"\n"
     ]
    },
    {
     "name": "stdout",
     "output_type": "stream",
     "text": [
      "----------------------------------------------------------------\n",
      "        Layer (type)               Output Shape         Param #\n",
      "================================================================\n",
      "            Conv2d-1         [1024, 64, 20, 20]          16,448\n",
      "              ReLU-2         [1024, 64, 20, 20]               0\n",
      "            Conv2d-3           [1024, 32, 9, 9]          32,800\n",
      "              ReLU-4           [1024, 32, 9, 9]               0\n",
      "            Conv2d-5           [1024, 16, 6, 6]           8,208\n",
      "              ReLU-6           [1024, 16, 6, 6]               0\n",
      "           Flatten-7                [1024, 576]               0\n",
      "            Linear-8                 [1024, 32]          18,464\n",
      "            Linear-9                [1024, 576]          19,008\n",
      "             ReLU-10                [1024, 576]               0\n",
      "  ConvTranspose2d-11           [1024, 32, 9, 9]          18,464\n",
      "             ReLU-12           [1024, 32, 9, 9]               0\n",
      "  ConvTranspose2d-13         [1024, 64, 20, 20]          65,600\n",
      "             ReLU-14         [1024, 64, 20, 20]               0\n",
      "  ConvTranspose2d-15          [1024, 1, 84, 84]           8,193\n",
      "================================================================\n",
      "Total params: 187,185\n",
      "Trainable params: 187,185\n",
      "Non-trainable params: 0\n",
      "----------------------------------------------------------------\n",
      "Input size (MB): 110.25\n",
      "Forward/backward pass size (MB): 958.88\n",
      "Params size (MB): 0.71\n",
      "Estimated Total Size (MB): 1069.84\n",
      "----------------------------------------------------------------\n"
     ]
    }
   ],
   "source": [
    "# this autoencoder predicts S_{t+1}.\n",
    "ae_delta_1 = UNet(in_dim, num_actions, LATENT_SIZE).to(DEVICE)\n",
    "ae_optim_1 = Adam(ae_delta_1.parameters(), 7e-4, eps=1e-5)\n",
    "T.save(ae_delta_1, 'clone.t')\n",
    "\n",
    "# this autoencoder predicts S_{t+2}. \n",
    "# cloned so latent dynamics are similar.\n",
    "ae_delta_2 = T.load('clone.t').to(DEVICE)\n",
    "ae_optim_2 = Adam(ae_delta_2.parameters(), 7e-4, eps=1e-5)\n",
    "\n",
    "# this is our actor + critic\n",
    "# input is both latent vectors of above autoencoders.\n",
    "actor = ACTOR(LATENT_SIZE*2, num_actions).to(DEVICE)\n",
    "actor_optim = Adam(actor.parameters(), 7e-4, eps=1e-5)\n",
    "\n",
    "critic = CRITIC(LATENT_SIZE*2, num_actions).to(DEVICE)\n",
    "critic_optim = Adam(critic.parameters(), 7e-4, eps=1e-5)\n",
    "\n",
    "summary(ae_delta_1, input_size=in_dim, batch_size=NENV*ROLLOUT_LENGTH)"
   ]
  },
  {
   "cell_type": "code",
   "execution_count": 0,
   "metadata": {
    "colab": {},
    "colab_type": "code",
    "id": "CBQu-7iekISu"
   },
   "outputs": [],
   "source": [
    "NUM_UPDATES = 1000\n",
    "\n",
    "MB_LEN      = int(NENV*(ROLLOUT_LENGTH-1))\n",
    "SPLIT_LEN   = int(MB_LEN//MB_SPLIT)\n",
    "NUM_UPDATES = int(TOTAL_TIMESTEPS//MB_LEN)\n",
    "\n",
    "rgen = Rollouts().generator(random=True)\n",
    "\n",
    "actor_scheduler  = LambdaLR(actor_optim, lambda i: 1 - (i / NUM_UPDATES))\n",
    "critic_scheduler  = LambdaLR(critic_optim, lambda i: 1 - (i / NUM_UPDATES))\n",
    "ae_1_scheduler = LambdaLR(ae_optim_1, lambda i: 1 - (i / NUM_UPDATES))\n",
    "ae_2_scheduler = LambdaLR(ae_optim_2, lambda i: 1 - (i / NUM_UPDATES))"
   ]
  },
  {
   "cell_type": "code",
   "execution_count": 18,
   "metadata": {
    "colab": {
     "base_uri": "https://localhost:8080/",
     "height": 1000,
     "output_embedded_package_id": "1BbJY_xonRc60ituV8feNKa8FShSsn2Z9"
    },
    "colab_type": "code",
    "executionInfo": {
     "elapsed": 3781022,
     "status": "error",
     "timestamp": 1582474983951,
     "user": {
      "displayName": "Harry Songhurst",
      "photoUrl": "https://lh3.googleusercontent.com/a-/AAuE7mBuJz9L_3sFdWpxVsMTwIkpEG2dttMVXKv3NVnR=s64",
      "userId": "17177898107918428203"
     },
     "user_tz": 0
    },
    "id": "BRhtax69YQ7S",
    "outputId": "2919a2bf-aa04-44a8-eda2-9eb8660b6328"
   },
   "outputs": [
    {
     "data": {
      "text/plain": [
       "Output hidden; open in https://colab.research.google.com to view."
      ]
     },
     "metadata": {},
     "output_type": "display_data"
    }
   ],
   "source": [
    "FR = ROLLOUT_LENGTH*NENV\n",
    "\n",
    "loss_history_ae_1 = []\n",
    "loss_history_ae_2 = []\n",
    "frames_loss_history_ae_1 = []\n",
    "frames_loss_history_ae_2 = []\n",
    "\n",
    "# Testing AE / pretraining\n",
    "for ii in range(NUM_UPDATES):\n",
    "    obs, obs_d1, obs_d2, logps, actions, values, rewards, infos = next(rgen)\n",
    "    obs_d1 = obs_d1[:,-1,:,:].unsqueeze(1)\n",
    "    obs_d2 = obs_d2[:,-1,:,:].unsqueeze(1)\n",
    "    for jj in range(100):\n",
    "        pred_ae_1, z1 = ae_delta_1(obs, actions.cpu().numpy().astype(int))\n",
    "        citerion  = nn.MSELoss()\n",
    "        loss_ae_1 = citerion(pred_ae_1, obs_d1)\n",
    "        ae_optim_1.zero_grad()\n",
    "        loss_ae_1.backward()\n",
    "        nn.utils.clip_grad_norm_(ae_delta_1.parameters(), 0.5)\n",
    "        ae_optim_1.step()\n",
    "\n",
    "        pred_ae_2, z2 = ae_delta_2(obs, actions.cpu().numpy().astype(int))\n",
    "        citerion  = nn.MSELoss()\n",
    "        loss_ae_2 = citerion(pred_ae_2, obs_d2)\n",
    "        ae_optim_2.zero_grad()\n",
    "        loss_ae_2.backward()\n",
    "        nn.utils.clip_grad_norm_(ae_delta_2.parameters(), 0.5)\n",
    "        ae_optim_2.step()\n",
    "\n",
    "        frames = (ii*100*FR) + (jj*FR)\n",
    "        loss_history_ae_1.append(loss_ae_1.item())\n",
    "        frames_loss_history_ae_1.append((frames, loss_ae_1.item()))\n",
    "        loss_history_ae_2.append(loss_ae_2.item())\n",
    "        frames_loss_history_ae_2.append((frames, loss_ae_2.item()))\n",
    "        \n",
    "    print(f'Batch {ii}, loss_ae_1 {loss_ae_1}, loss_ae_2 {loss_ae_2}')\n",
    "    ae_1_scheduler.step(ii)\n",
    "    ae_2_scheduler.step(ii)\n",
    "\n",
    "    if ii % 5 == 0:\n",
    "        print('OBS:')\n",
    "        plt.imshow(obs.cpu().numpy()[500][-1])\n",
    "        plt.show()\n",
    "        print('TARGET D1:')\n",
    "        plt.imshow(obs_d1.cpu().numpy()[500][-1])\n",
    "        plt.show()\n",
    "        print('PRED D1:')\n",
    "        plt.imshow(pred_ae_1.detach().cpu().numpy()[500][-1])\n",
    "        plt.show()\n",
    "        print('TARGET D2:')\n",
    "        plt.imshow(obs_d2.cpu().numpy()[500][-1])\n",
    "        plt.show()\n",
    "        print('PRED D2:')\n",
    "        plt.imshow(pred_ae_2.detach().cpu().numpy()[500][-1])\n",
    "        plt.show()"
   ]
  },
  {
   "cell_type": "code",
   "execution_count": 19,
   "metadata": {
    "colab": {
     "base_uri": "https://localhost:8080/",
     "height": 644
    },
    "colab_type": "code",
    "executionInfo": {
     "elapsed": 947,
     "status": "ok",
     "timestamp": 1582474987656,
     "user": {
      "displayName": "Harry Songhurst",
      "photoUrl": "https://lh3.googleusercontent.com/a-/AAuE7mBuJz9L_3sFdWpxVsMTwIkpEG2dttMVXKv3NVnR=s64",
      "userId": "17177898107918428203"
     },
     "user_tz": 0
    },
    "id": "N9ge9nULH592",
    "outputId": "4401a753-8be6-443c-9875-1b29d0c0cf6a"
   },
   "outputs": [
    {
     "data": {
      "text/plain": [
       "<matplotlib.legend.Legend at 0x7fb952e16390>"
      ]
     },
     "execution_count": 19,
     "metadata": {
      "tags": []
     },
     "output_type": "execute_result"
    },
    {
     "data": {
      "image/png": "[encoded data removed]",
      "text/plain": [
       "<Figure size 720x720 with 1 Axes>"
      ]
     },
     "metadata": {
      "tags": []
     },
     "output_type": "display_data"
    }
   ],
   "source": [
    "fig, ax = plt.subplots(figsize=(10,10))\n",
    "ax.set_xlabel('Frames')\n",
    "ax.set_ylabel('Loss')\n",
    "ax.set_title('UNet')\n",
    "clrs = sns.color_palette(\"husl\", 5)\n",
    "\n",
    "ax.plot(\n",
    "    *zip(*frames_loss_history_ae_1),\n",
    "    label='t+1', \n",
    "    c=clrs[0]\n",
    ")\n",
    "ax.plot(\n",
    "    *zip(*frames_loss_history_ae_2),\n",
    "    label='t+2', \n",
    "    c=clrs[1]\n",
    ")\n",
    "\n",
    "ax.legend(loc='upper right')"
   ]
  },
  {
   "cell_type": "code",
   "execution_count": 0,
   "metadata": {
    "colab": {},
    "colab_type": "code",
    "id": "88raO_JVjoC2"
   },
   "outputs": [],
   "source": [
    "T.save(ae_delta_1.state_dict(), 'ae1-unet-breakout.torch')\n",
    "T.save(ae_delta_2.state_dict(), 'ae2-unet-breakout.torch')"
   ]
  },
  {
   "cell_type": "code",
   "execution_count": 0,
   "metadata": {
    "colab": {},
    "colab_type": "code",
    "id": "TSPX8opQj0Qo"
   },
   "outputs": [],
   "source": [
    "from google.colab import files\n",
    "\n",
    "files.download('ae1-unet-breakout.torch')\n",
    "files.download('ae2-unet-breakout.torch')"
   ]
  },
  {
   "cell_type": "code",
   "execution_count": 0,
   "metadata": {
    "colab": {
     "base_uri": "https://localhost:8080/",
     "height": 34
    },
    "colab_type": "code",
    "executionInfo": {
     "elapsed": 574,
     "status": "ok",
     "timestamp": 1582386572825,
     "user": {
      "displayName": "Harry Songhurst",
      "photoUrl": "https://lh3.googleusercontent.com/a-/AAuE7mBuJz9L_3sFdWpxVsMTwIkpEG2dttMVXKv3NVnR=s64",
      "userId": "17177898107918428203"
     },
     "user_tz": 0
    },
    "id": "gSgasvh_lQrE",
    "outputId": "4c80d476-dd3f-481b-f686-0108c5a2b73c"
   },
   "outputs": [
    {
     "data": {
      "text/plain": [
       "['NOOP', 'FIRE', 'RIGHT', 'LEFT']"
      ]
     },
     "execution_count": 32,
     "metadata": {
      "tags": []
     },
     "output_type": "execute_result"
    }
   ],
   "source": [
    "import gym\n",
    "\n",
    "e2 = gym.make(ENV_NAME)\n",
    "e2.unwrapped.get_action_meanings()"
   ]
  },
  {
   "cell_type": "code",
   "execution_count": 23,
   "metadata": {
    "colab": {
     "base_uri": "https://localhost:8080/",
     "height": 1000
    },
    "colab_type": "code",
    "executionInfo": {
     "elapsed": 2326,
     "status": "ok",
     "timestamp": 1582475131084,
     "user": {
      "displayName": "Harry Songhurst",
      "photoUrl": "https://lh3.googleusercontent.com/a-/AAuE7mBuJz9L_3sFdWpxVsMTwIkpEG2dttMVXKv3NVnR=s64",
      "userId": "17177898107918428203"
     },
     "user_tz": 0
    },
    "id": "FTTYVOR2jHSP",
    "outputId": "64429b30-456c-4c1e-9449-0df26dc96f74"
   },
   "outputs": [
    {
     "data": {
      "image/png": "[encoded data removed]",
      "text/plain": [
       "<Figure size 1440x1440 with 4 Axes>"
      ]
     },
     "metadata": {
      "tags": []
     },
     "output_type": "display_data"
    },
    {
     "data": {
      "image/png": "[encoded data removed]",
      "text/plain": [
       "<Figure size 360x360 with 1 Axes>"
      ]
     },
     "metadata": {
      "tags": []
     },
     "output_type": "display_data"
    },
    {
     "data": {
      "image/png": "[encoded data removed]",
      "text/plain": [
       "<Figure size 360x360 with 1 Axes>"
      ]
     },
     "metadata": {
      "tags": []
     },
     "output_type": "display_data"
    },
    {
     "name": "stdout",
     "output_type": "stream",
     "text": [
      "Should have left bais\n"
     ]
    },
    {
     "data": {
      "image/png": "[encoded data removed]",
      "text/plain": [
       "<Figure size 432x288 with 1 Axes>"
      ]
     },
     "metadata": {
      "tags": []
     },
     "output_type": "display_data"
    },
    {
     "name": "stdout",
     "output_type": "stream",
     "text": [
      "Should have right bais\n"
     ]
    },
    {
     "data": {
      "image/png": "[encoded data removed]",
      "text/plain": [
       "<Figure size 432x288 with 1 Axes>"
      ]
     },
     "metadata": {
      "tags": []
     },
     "output_type": "display_data"
    }
   ],
   "source": [
    "# Lets see whether our model has learned a self model\n",
    "\n",
    "test_ob = obs[508]\n",
    "\n",
    "fig, axs = plt.subplots(1, 4, figsize=(20,20))\n",
    "im_ob = test_ob.cpu().numpy()\n",
    "[a.imshow(im_ob[i]) for i, a in enumerate(axs)]\n",
    "plt.show()\n",
    "\n",
    "# # the paddle should stay stationary after taking action 0\n",
    "# pred_tb, z_tb = ae_delta_2(test_ob.unsqueeze(0), [0])\n",
    "# im_tb = pred_tb.detach().cpu().numpy()[0]\n",
    "# fig, axs = plt.subplots(1, 4, figsize=(20,20))\n",
    "# [a.imshow(im_tb[i]) for i, a in enumerate(axs)]\n",
    "# plt.show()\n",
    "\n",
    "# # the paddle should stay stationary after taking action 1\n",
    "# pred_tb, z_tb = ae_delta_2(test_ob.unsqueeze(0), [1])\n",
    "# im_tb = pred_tb.detach().cpu().numpy()[0]\n",
    "# fig, axs = plt.subplots(1, 4, figsize=(20,20))\n",
    "# [a.imshow(im_tb[i]) for i, a in enumerate(axs)]\n",
    "# plt.show()\n",
    "\n",
    "# the paddle should be a bit to the right after taking action 2\n",
    "pred_tb, z_tb = ae_delta_1(test_ob.unsqueeze(0), [2])\n",
    "im_tb = pred_tb.detach().cpu().numpy()[0]\n",
    "fig, axs = plt.subplots(1, 1, figsize=(5,5))\n",
    "axs.imshow(im_tb[0])\n",
    "plt.show()\n",
    "\n",
    "# the paddle should be a bit to the left after taking action 3\n",
    "pred_ta, z_ta = ae_delta_1(test_ob.unsqueeze(0), [3])\n",
    "im_ta = pred_ta.detach().cpu().numpy()[0]\n",
    "fig, axs = plt.subplots(1, 1, figsize=(5,5))\n",
    "axs.imshow(im_ta[0])\n",
    "plt.show()\n",
    "\n",
    "\n",
    "print('Should have left bais')\n",
    "plt.imshow((im_ob-im_ta)[-1])\n",
    "plt.show()\n",
    "\n",
    "print('Should have right bais')\n",
    "plt.imshow((im_ob-im_tb)[-1])\n",
    "plt.show()\n"
   ]
  },
  {
   "cell_type": "code",
   "execution_count": 0,
   "metadata": {
    "colab": {},
    "colab_type": "code",
    "id": "FkxxBbnszFmO"
   },
   "outputs": [],
   "source": [
    "# this worked a little!"
   ]
  },
  {
   "cell_type": "code",
   "execution_count": 0,
   "metadata": {
    "colab": {
     "base_uri": "https://localhost:8080/",
     "height": 296
    },
    "colab_type": "code",
    "executionInfo": {
     "elapsed": 2417,
     "status": "ok",
     "timestamp": 1582388697820,
     "user": {
      "displayName": "Harry Songhurst",
      "photoUrl": "https://lh3.googleusercontent.com/a-/AAuE7mBuJz9L_3sFdWpxVsMTwIkpEG2dttMVXKv3NVnR=s64",
      "userId": "17177898107918428203"
     },
     "user_tz": 0
    },
    "id": "N9yIG3DHkxea",
    "outputId": "bea7c57f-0ba0-41e7-b05a-2aa9d8fceaee"
   },
   "outputs": [
    {
     "data": {
      "image/png": "[encoded data removed]",
      "text/plain": [
       "<Figure size 1440x1440 with 4 Axes>"
      ]
     },
     "metadata": {
      "tags": []
     },
     "output_type": "display_data"
    }
   ],
   "source": [
    "obz,_,_,_ = env.step([2]*8)\n",
    "im_ob = obz[4]/255.\n",
    "\n",
    "fig, axs = plt.subplots(1, 4, figsize=(20,20))\n",
    "[a.imshow(im_ob[:,:,i]) for i, a in enumerate(axs)]\n",
    "plt.show()"
   ]
  },
  {
   "cell_type": "code",
   "execution_count": 0,
   "metadata": {
    "colab": {},
    "colab_type": "code",
    "id": "XOm3BQU2sojA"
   },
   "outputs": [],
   "source": []
  }
 ],
 "metadata": {
  "accelerator": "GPU",
  "colab": {
   "collapsed_sections": [],
   "name": "LATENT 32 UNet 1 frame.ipynb",
   "provenance": [
    {
     "file_id": "1M1Xlmr8wAqvoX53C2BKiik_R1sZlznV6",
     "timestamp": 1582471130153
    },
    {
     "file_id": "1GuvFJGdrQELUlKGilUysQPmmo_uXdpKe",
     "timestamp": 1582467600527
    },
    {
     "file_id": "1qbvVKUc_MGFSjYEud-v97vt44uy_gM1Q",
     "timestamp": 1582383078814
    },
    {
     "file_id": "1j75Hdoy8mePf8yKT98wowU_BlqvF_UO3",
     "timestamp": 1582368463626
    },
    {
     "file_id": "1soYC13f4fK8jQTXUYoKj8ZOpWu7vpVYU",
     "timestamp": 1582035152480
    },
    {
     "file_id": "19sbMl5mnIXzMvzvV1nio7abSlG5MUnil",
     "timestamp": 1581774068113
    },
    {
     "file_id": "1wES2gtJLmyTwcUFC47YbBTRpumf8hWkz",
     "timestamp": 1581425769718
    },
    {
     "file_id": "1vh9GJ2932AgfXeV0apl4uVOUWQgrvjzs",
     "timestamp": 1581339007820
    },
    {
     "file_id": "1eAwuH2cZMjDsIYziMU7gfuWUOFlhoDWp",
     "timestamp": 1581200716214
    },
    {
     "file_id": "1RYla8JWGzyh5JYOUBfRkRW4bBLDfU-CR",
     "timestamp": 1581168818609
    }
   ]
  },
  "kernelspec": {
   "display_name": "Python 3",
   "language": "python",
   "name": "python3"
  },
  "language_info": {
   "codemirror_mode": {
    "name": "ipython",
    "version": 3
   },
   "file_extension": ".py",
   "mimetype": "text/x-python",
   "name": "python",
   "nbconvert_exporter": "python",
   "pygments_lexer": "ipython3",
   "version": "3.6.5"
  }
 },
 "nbformat": 4,
 "nbformat_minor": 1
}
