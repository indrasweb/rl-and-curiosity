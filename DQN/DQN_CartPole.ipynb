{
  "nbformat": 4,
  "nbformat_minor": 0,
  "metadata": {
    "colab": {
      "name": "DQN CartPole.ipynb",
      "provenance": [],
      "collapsed_sections": []
    },
    "kernelspec": {
      "name": "python3",
      "display_name": "Python 3"
    },
    "accelerator": "GPU"
  },
  "cells": [
    {
      "cell_type": "code",
      "metadata": {
        "id": "imcM_uYhc-7d",
        "colab_type": "code",
        "colab": {}
      },
      "source": [
        "import random\n",
        "import gym\n",
        "import numpy as np\n",
        "import torch as T\n",
        "import torch.nn as nn\n",
        "from torch.optim import Adam\n",
        "from torch.optim.lr_scheduler import LambdaLR\n",
        "from itertools import count\n",
        "\n",
        "TOTAL_TIMESTEPS = 1e5 # 100k timesteps (frames of experience)\n",
        "Q_FACTOR = 0.9        # Q-learning discount factor\n",
        "BATCH_SIZE = 64       # Q-learning batch size\n",
        "DEVICE = T.device('cuda' if T.cuda.is_available() else 'cpu')"
      ],
      "execution_count": 0,
      "outputs": []
    },
    {
      "cell_type": "markdown",
      "metadata": {
        "id": "vlBT4x1LddqQ",
        "colab_type": "text"
      },
      "source": [
        "# Neural Net Definition"
      ]
    },
    {
      "cell_type": "code",
      "metadata": {
        "id": "S73GRq-Vdbln",
        "colab_type": "code",
        "colab": {}
      },
      "source": [
        "class Policy(nn.Module):\n",
        "    def __init__(self, in_shape, num_actions):\n",
        "        super().__init__()\n",
        "        # input is uni-dimensional for cartpole\n",
        "        self.net = nn.Sequential(\n",
        "            nn.Linear(in_shape, 20),\n",
        "            nn.ReLU(True),\n",
        "            nn.Linear(20, num_actions),\n",
        "        )\n",
        "    def forward(self, x):\n",
        "        return self.net(x)"
      ],
      "execution_count": 0,
      "outputs": []
    },
    {
      "cell_type": "markdown",
      "metadata": {
        "id": "HYHoOC_0d_v8",
        "colab_type": "text"
      },
      "source": [
        "# Main"
      ]
    },
    {
      "cell_type": "code",
      "metadata": {
        "id": "hNTqP5dnd8Wk",
        "colab_type": "code",
        "outputId": "529e6c72-07f8-4d99-afd4-9b4bd4373cc9",
        "colab": {
          "base_uri": "https://localhost:8080/",
          "height": 51
        }
      },
      "source": [
        "env = gym.make('CartPole-v1')\n",
        "in_dim = env.observation_space.shape[0]\n",
        "policy_dim = env.action_space.n\n",
        "\n",
        "policy = Policy(in_dim, policy_dim).to(DEVICE)\n",
        "optim = Adam(policy.parameters(), 5e-4)\n",
        "\n",
        "total_steps = 0\n",
        "scheduler = LambdaLR(optim, lambda i: 1 - total_steps / TOTAL_TIMESTEPS)\n",
        "criterion = nn.MSELoss()\n",
        "memory = []\n",
        "\n",
        "all_log_rwd = []  # (num_steps, reward)\n",
        "eval_log_rwd = [] # (num_steps, reward)"
      ],
      "execution_count": 10,
      "outputs": [
        {
          "output_type": "stream",
          "text": [
            "/usr/local/lib/python3.6/dist-packages/gym/logger.py:30: UserWarning: \u001b[33mWARN: Box bound precision lowered by casting to float32\u001b[0m\n",
            "  warnings.warn(colorize('%s: %s'%('WARN', msg % args), 'yellow'))\n"
          ],
          "name": "stderr"
        }
      ]
    },
    {
      "cell_type": "code",
      "metadata": {
        "id": "NURhBS-hd3u-",
        "colab_type": "code",
        "outputId": "e6c2ac40-1e15-4acb-d9ae-2f3c1c0921c5",
        "colab": {
          "base_uri": "https://localhost:8080/",
          "height": 938
        }
      },
      "source": [
        "def mk_torch(x):\n",
        "    x = T.from_numpy(x).float()\n",
        "    x = x.to(DEVICE)\n",
        "    return x\n",
        "\n",
        "def get_action(state, eps):\n",
        "    # eps greedy sample action\n",
        "    if np.random.random() > eps:\n",
        "        x = mk_torch(state).unsqueeze(0)\n",
        "        return int(policy(x).max(1)[1].cpu().item())\n",
        "    return int(np.random.randint(2))\n",
        "\n",
        "for ep in count():\n",
        "    \n",
        "    # eps greedy coefficient\n",
        "    eps = max(0.0, (0.5 - (total_steps / TOTAL_TIMESTEPS)))\n",
        "    ob = env.reset()\n",
        "    done = False\n",
        "    ep_steps = 0\n",
        "\n",
        "    while not done:\n",
        "        \n",
        "        # eps greedy action step\n",
        "        act = get_action(ob, eps)\n",
        "        nob, rwd, done, info = env.step(act)\n",
        "        total_steps += 1\n",
        "        ep_steps += 1\n",
        "        if done:\n",
        "            rwd = 0\n",
        "            all_log_rwd.append((total_steps, ep_steps))\n",
        "\n",
        "        # update memory <S,A,R,S'>\n",
        "        memory.append([ob, act, rwd, nob])\n",
        "        ob=nob\n",
        "\n",
        "        if len(memory) <= BATCH_SIZE:\n",
        "            continue\n",
        "        if len(memory) > 16000:\n",
        "            del memory[0]\n",
        "\n",
        "        # random sample minibatch\n",
        "        mb = random.sample(memory, BATCH_SIZE)\n",
        "        mb_S, mb_A, mb_R, mb_nS = map(mk_torch, map(np.stack, zip(*mb)))\n",
        "        mb_R = (mb_R - mb_R.mean()) / (mb_R.std() + 1e-6)\n",
        "\n",
        "        # Q learn\n",
        "        Q = policy(mb_S).gather(1, mb_A.unsqueeze(1).long())\n",
        "        max_nQ = policy(mb_nS).detach().max(1)[0]\n",
        "        Q_target = mb_R + Q_FACTOR*max_nQ\n",
        "\n",
        "        # policy step\n",
        "        optim.zero_grad()\n",
        "        loss = criterion(Q.squeeze(), Q_target)\n",
        "        loss.backward()\n",
        "        nn.utils.clip_grad_norm_(policy.parameters(), 1)\n",
        "        optim.step()\n",
        "\n",
        "        #evaluate\n",
        "        if ep % 10 == 0:\n",
        "            r, done, ob = 0, False, env.reset()            \n",
        "            while not done:\n",
        "                act = get_action(ob, 0)\n",
        "                ob, rwd, done, info = env.step(act)\n",
        "                r += 1\n",
        "            eval_log_rwd.append((total_steps, r))\n",
        "            print(f'RWD: {r}\\tL: {loss.item():2f}\\t[{total_steps}]')\n",
        "        \n",
        "    if total_steps >= TOTAL_TIMESTEPS:\n",
        "        break\n",
        "    \n",
        "    scheduler.step(total_steps)"
      ],
      "execution_count": 11,
      "outputs": [
        {
          "output_type": "stream",
          "text": [
            "/usr/local/lib/python3.6/dist-packages/torch/optim/lr_scheduler.py:122: UserWarning: Detected call of `lr_scheduler.step()` before `optimizer.step()`. In PyTorch 1.1.0 and later, you should call them in the opposite order: `optimizer.step()` before `lr_scheduler.step()`.  Failure to do this will result in PyTorch skipping the first value of the learning rate schedule. See more details at https://pytorch.org/docs/stable/optim.html#how-to-adjust-learning-rate\n",
            "  \"https://pytorch.org/docs/stable/optim.html#how-to-adjust-learning-rate\", UserWarning)\n"
          ],
          "name": "stderr"
        },
        {
          "output_type": "stream",
          "text": [
            "RWD: 116\tL: 0.919250\t[283]\n",
            "RWD: 19\tL: 0.039452\t[662]\n",
            "RWD: 10\tL: 0.989217\t[863]\n",
            "RWD: 47\tL: 0.968176\t[1074]\n",
            "RWD: 26\tL: 0.962320\t[1346]\n",
            "RWD: 25\tL: 0.727412\t[1578]\n",
            "RWD: 27\tL: 0.889692\t[1756]\n",
            "RWD: 40\tL: 0.939235\t[2137]\n",
            "RWD: 53\tL: 1.025420\t[2689]\n",
            "RWD: 42\tL: 0.631019\t[3161]\n",
            "RWD: 59\tL: 0.957224\t[3716]\n",
            "RWD: 53\tL: 1.064615\t[4151]\n",
            "RWD: 373\tL: 0.966352\t[4817]\n",
            "RWD: 205\tL: 0.911160\t[5487]\n",
            "RWD: 500\tL: 0.982056\t[6429]\n",
            "RWD: 500\tL: 0.074813\t[7807]\n",
            "RWD: 500\tL: 0.890381\t[9984]\n",
            "RWD: 500\tL: 0.628916\t[12995]\n",
            "RWD: 500\tL: 0.052340\t[16077]\n",
            "RWD: 500\tL: 0.044921\t[18755]\n",
            "RWD: 477\tL: 0.021261\t[22669]\n",
            "RWD: 500\tL: 0.011501\t[26342]\n",
            "RWD: 500\tL: 0.019486\t[30718]\n",
            "RWD: 500\tL: 0.003138\t[34992]\n",
            "RWD: 330\tL: 1.022503\t[39033]\n",
            "RWD: 334\tL: 0.004401\t[42131]\n",
            "RWD: 298\tL: 0.003913\t[45222]\n",
            "RWD: 246\tL: 0.003897\t[47716]\n",
            "RWD: 250\tL: 0.003680\t[50033]\n",
            "RWD: 292\tL: 0.001968\t[52418]\n",
            "RWD: 315\tL: 0.980527\t[54794]\n",
            "RWD: 313\tL: 0.004553\t[57179]\n",
            "RWD: 256\tL: 0.001730\t[59563]\n",
            "RWD: 239\tL: 0.002957\t[61711]\n",
            "RWD: 255\tL: 0.003173\t[63864]\n",
            "RWD: 247\tL: 0.002547\t[66061]\n",
            "RWD: 226\tL: 0.005463\t[68264]\n",
            "RWD: 231\tL: 0.003318\t[70545]\n",
            "RWD: 245\tL: 0.003217\t[72791]\n",
            "RWD: 234\tL: 0.947682\t[75001]\n",
            "RWD: 248\tL: 0.952231\t[77208]\n",
            "RWD: 221\tL: 0.932614\t[79449]\n",
            "RWD: 240\tL: 0.905112\t[81655]\n",
            "RWD: 235\tL: 0.934827\t[83886]\n",
            "RWD: 245\tL: 0.003634\t[86028]\n",
            "RWD: 242\tL: 0.002493\t[88218]\n",
            "RWD: 232\tL: 0.002242\t[90322]\n",
            "RWD: 228\tL: 0.003307\t[92465]\n",
            "RWD: 253\tL: 0.002029\t[94588]\n",
            "RWD: 216\tL: 0.001753\t[96684]\n",
            "RWD: 232\tL: 0.945163\t[98772]\n"
          ],
          "name": "stdout"
        }
      ]
    },
    {
      "cell_type": "markdown",
      "metadata": {
        "id": "ZW06OvJzeEAc",
        "colab_type": "text"
      },
      "source": [
        "# Plot results"
      ]
    },
    {
      "cell_type": "code",
      "metadata": {
        "id": "UGMKPCrCeQfD",
        "colab_type": "code",
        "colab": {}
      },
      "source": [
        "import matplotlib.pyplot as plt\n",
        "import seaborn as sns\n",
        "import pandas as pd\n",
        "sns.set()"
      ],
      "execution_count": 0,
      "outputs": []
    },
    {
      "cell_type": "code",
      "metadata": {
        "id": "AhdCaqbQeDXO",
        "colab_type": "code",
        "outputId": "e3eeebcf-b62b-47d4-a8f8-f868ba74df52",
        "colab": {
          "base_uri": "https://localhost:8080/",
          "height": 318
        }
      },
      "source": [
        "# plot with seaborn\n",
        "fig, ax = plt.subplots(figsize=(4,4))\n",
        "ax.set_xlabel('Env Steps')\n",
        "ax.set_ylabel('Reward')\n",
        "clrs = sns.color_palette(\"husl\", 8)\n",
        "\n",
        "# eval\n",
        "df = pd.DataFrame(eval_log_rwd, columns =['Frames', 'Reward'])\n",
        "p1, = ax.plot(df['Frames'], df['Reward'], c=clrs[2], alpha=0.5, label='eval')\n",
        "\n",
        "# compute rolling avg and std\n",
        "df = pd.DataFrame(all_log_rwd, columns =['Frames', 'Reward'])\n",
        "sma_y = df['Reward'].rolling(100).mean()\n",
        "std_y = df['Reward'].rolling(100).std()\n",
        "\n",
        "# fill standard deviation\n",
        "p2, = ax.plot(df['Frames'], sma_y, c=clrs[0], label='raw')\n",
        "ax.fill_between(df['Frames'], sma_y-std_y,  sma_y+std_y, \n",
        "                alpha=0.3, facecolor=clrs[0]) \n",
        "\n",
        "plt.legend([p1, p2], ['eval', 'raw'])\n",
        "\n",
        "# make x axis nice\n",
        "xlabels = [f'{int(x)}K' for x in ax.get_xticks()/1e3]\n",
        "ax.set_xticklabels(xlabels)\n",
        "\n",
        "ax2 = ax.twiny()\n",
        "ax2.plot(df['Frames'], df['Reward'], c=clrs[2], alpha=0) # Create a dummy plot\n",
        "ax2.set_xticklabels(xlabels)\n",
        "ax2.set_xlabel('Weight Updates')\n",
        "\n",
        "plt.savefig('cartpole_fig_dqn.png', dpi=300, pad_inches=0, bbox_inches = 'tight')\n",
        "plt.show()"
      ],
      "execution_count": 26,
      "outputs": [
        {
          "output_type": "display_data",
          "data": {
            "image/png": "[encoded data removed]",
            "text/plain": [
              "<Figure size 288x288 with 2 Axes>"
            ]
          },
          "metadata": {
            "tags": []
          }
        }
      ]
    },
    {
      "cell_type": "code",
      "metadata": {
        "id": "nFpBLJlOeOXy",
        "colab_type": "code",
        "colab": {}
      },
      "source": [
        "from google.colab import files\n",
        "files.download('cartpole_fig_dqn.png')"
      ],
      "execution_count": 0,
      "outputs": []
    },
    {
      "cell_type": "code",
      "metadata": {
        "id": "YWUvNCY_J5Or",
        "colab_type": "code",
        "colab": {}
      },
      "source": [
        ""
      ],
      "execution_count": 0,
      "outputs": []
    }
  ]
}