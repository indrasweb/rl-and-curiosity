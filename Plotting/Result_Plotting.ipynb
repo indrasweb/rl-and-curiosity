{
 "cells": [
  {
   "cell_type": "code",
   "execution_count": 0,
   "metadata": {
    "colab": {},
    "colab_type": "code",
    "id": "MiWy-wSlg65h"
   },
   "outputs": [],
   "source": [
    "!pip install stable-baselines==2.9.0"
   ]
  },
  {
   "cell_type": "code",
   "execution_count": 0,
   "metadata": {
    "colab": {},
    "colab_type": "code",
    "id": "dZmBmHSCwNRk"
   },
   "outputs": [],
   "source": [
    "import datetime\n",
    "from time import time\n",
    "from collections import deque\n",
    "\n",
    "import numpy as np\n",
    "\n",
    "import torch as T\n",
    "from torch.autograd import Variable\n",
    "import torch.nn as nn\n",
    "from torch.distributions import Categorical\n",
    "from torch.optim import Adam\n",
    "from torch.optim.lr_scheduler import LambdaLR\n",
    "\n",
    "from stable_baselines.common.misc_util import set_global_seeds\n",
    "from stable_baselines.common.cmd_util import make_atari_env\n",
    "from stable_baselines.common.vec_env import VecFrameStack, VecNormalize\n",
    "from stable_baselines.common.running_mean_std import RunningMeanStd\n",
    "\n",
    "from tqdm import trange\n",
    "from google.colab import drive\n",
    "from tensorboardcolab import TensorBoardColab\n",
    "import pickle as pkl\n",
    "from itertools import count"
   ]
  },
  {
   "cell_type": "code",
   "execution_count": 0,
   "metadata": {
    "colab": {},
    "colab_type": "code",
    "id": "ovKc19B7wQSv"
   },
   "outputs": [],
   "source": [
    "ENV_NAME = 'MsPacmanNoFrameskip-v4'\n",
    "SAVE_PATH = '/content/gdrive/My Drive/Colab Notebooks/A2C/'\n",
    "\n",
    "TOTAL_FRAMES = 5e6  # 5 million frames\n",
    "ROLLOUT_LENGTH = 5  # transitions in each rollout\n",
    "NENV = 8            # parallel environments, increase to decorrolate batches\n",
    "GAMMA = 0.99        # reward discounting coefficient\n",
    "SEED = 420          # blaze it\n",
    "STEPS_PER_ROLLOUT = ROLLOUT_LENGTH*NENV\n",
    "TOTAL_UPDATES = int(TOTAL_FRAMES // STEPS_PER_ROLLOUT)\n",
    "DEVICE = T.device('cuda' if T.cuda.is_available() else 'cpu')\n",
    "\n",
    "set_global_seeds(SEED)"
   ]
  },
  {
   "cell_type": "code",
   "execution_count": 0,
   "metadata": {
    "colab": {
     "base_uri": "https://localhost:8080/",
     "height": 122
    },
    "colab_type": "code",
    "id": "yl0qbkBdxITN",
    "outputId": "5962c32b-973e-49ef-dd9e-8f441fa983af"
   },
   "outputs": [
    {
     "name": "stdout",
     "output_type": "stream",
     "text": [
      "Go to this URL in a browser: https://accounts.google.com/o/oauth2/auth?client_id=947318989803-6bn6qk8qdgf4n4g3pfee6491hc0brc4i.apps.googleusercontent.com&redirect_uri=urn%3aietf%3awg%3aoauth%3a2.0%3aoob&response_type=code&scope=email%20https%3a%2f%2fwww.googleapis.com%2fauth%2fdocs.test%20https%3a%2f%2fwww.googleapis.com%2fauth%2fdrive%20https%3a%2f%2fwww.googleapis.com%2fauth%2fdrive.photos.readonly%20https%3a%2f%2fwww.googleapis.com%2fauth%2fpeopleapi.readonly\n",
      "\n",
      "Enter your authorization code:\n",
      "··········\n",
      "Mounted at /content/gdrive\n"
     ]
    }
   ],
   "source": [
    "drive.mount('/content/gdrive')"
   ]
  },
  {
   "cell_type": "code",
   "execution_count": 0,
   "metadata": {
    "colab": {},
    "colab_type": "code",
    "id": "Lv_ca7JsaRyt"
   },
   "outputs": [],
   "source": [
    "class Logger:\n",
    "\n",
    "    def __init__(self, print_rate=250):\n",
    "        self.log = {'ep_r':[], 'ep_l':[], 'loss':[], 'pgloss':[], \n",
    "                    'vloss':[], 'ent':[]}\n",
    "        self.n_ep = 0              # total games/episodes\n",
    "        self.n_update = 1          # total weight updates\n",
    "        self.n_frames = 0          # env steps (total from checkpoint)\n",
    "        self.run_frames = 0        # env steps (for this run)\n",
    "        self.max_rwd = -np.inf     # max rwd out of all games played\n",
    "        self.start_time = time()   # time we started *this* run\n",
    "        self.last_checkpoint = 0   # total_frames at last checkpoint\n",
    "        self.print_rate = print_rate\n",
    "\n",
    "    def eta(self):  # get hh:mm:ss left to train\n",
    "        elapsed_time = time() - self.start_time\n",
    "        frames_left = TOTAL_FRAMES - self.n_frames\n",
    "        sec_per_frame = elapsed_time / self.n_frames\n",
    "        sec_left = int(frames_left * sec_per_frame)\n",
    "        eta_str = str(datetime.timedelta(seconds=sec_left))\n",
    "        return eta_str\n",
    "\n",
    "    def fps(self):  # get frames per second\n",
    "        elapsed_time = time() - self.start_time\n",
    "        fps = int(self.run_frames / elapsed_time)\n",
    "        return fps\n",
    "\n",
    "    def sma(self, x):  # simple moving average\n",
    "        div = 200 if len(x) > 200 else len(x)\n",
    "        return sum(list(zip(*x[-div:]))[-1])/div\n",
    "\n",
    "    def print_log(self):\n",
    "        fps = self.fps()\n",
    "        eta = self.eta()\n",
    "        print('-'*10, self.n_update, '/', TOTAL_UPDATES, '-'*10)\n",
    "        print('Num Games:', self.n_ep)\n",
    "        print('Num Frames:', self.n_frames)\n",
    "        print('FPS:', fps)\n",
    "        print('ETA:', eta)\n",
    "        print('SMA Length:', self.sma(self.log['ep_l']))\n",
    "        print('SMA Reward:', self.sma(self.log['ep_r']))\n",
    "        print('SMA Entropy:', self.sma(self.log['ent']))\n",
    "        print('SMA Loss:', self.sma(self.log['loss']))\n",
    "        print('SMA PG Loss:', self.sma(self.log['pgloss']))\n",
    "        print('SMA V Loss:', self.sma(self.log['vloss']))\n",
    "        print('Max reward:', self.max_rwd)\n",
    "\n",
    "    def record(self, ep, loss, pgloss, vloss, ent):\n",
    "        \n",
    "        self.n_update += 1\n",
    "        self.n_frames += STEPS_PER_ROLLOUT\n",
    "        self.run_frames += STEPS_PER_ROLLOUT\n",
    "        fr = (self.n_frames, self.n_update)\n",
    "\n",
    "        # stats about finished episodes/games\n",
    "        for l, r in zip(ep['l'], ep['r']):\n",
    "            self.log['ep_l'].append(fr+(l,))\n",
    "            self.log['ep_r'].append(fr+(r,))\n",
    "            if r > self.max_rwd: self.max_rwd = r\n",
    "            self.n_ep += 1\n",
    "             \n",
    "        # nn training statistics\n",
    "        self.log['loss'].append(fr+(loss,))\n",
    "        self.log['pgloss'].append(fr+(pgloss,))\n",
    "        self.log['vloss'].append(fr+(vloss,))\n",
    "        self.log['ent'].append(fr+(ent,))\n",
    "        \n",
    "        # print log\n",
    "        if self.n_update % self.print_rate == 0:\n",
    "            self.print_log()"
   ]
  },
  {
   "cell_type": "code",
   "execution_count": 0,
   "metadata": {
    "colab": {},
    "colab_type": "code",
    "id": "lHEPZrl8aRVm"
   },
   "outputs": [],
   "source": [
    "class AC(nn.Module):\n",
    "  \n",
    "    def __init__(self, input_shape, num_actions):\n",
    "        super().__init__()\n",
    "        h, w, c = input_shape\n",
    "\n",
    "        self.conv = nn.Sequential(\n",
    "            nn.Conv2d(c, 32, 8, 4),\n",
    "            nn.ReLU(True),\n",
    "            nn.Conv2d(32, 64, 4, 2),\n",
    "            nn.ReLU(True),\n",
    "            nn.Conv2d(64, 64, 3, 1),\n",
    "            nn.ReLU(True),\n",
    "        )\n",
    "        \n",
    "        f = self.conv_size(self.conv, (c,h,w))\n",
    "\n",
    "        self.flat = nn.Sequential(\n",
    "            nn.Flatten(),\n",
    "            nn.Linear(f, 512),\n",
    "            nn.ReLU(True)\n",
    "        )\n",
    "\n",
    "        self.backbone = nn.Sequential(self.conv, self.flat)\n",
    "        self.actor = nn.Linear(512, num_actions)\n",
    "        self.critic = nn.Linear(512, 1)\n",
    "\n",
    "    def conv_size(self, net, in_shape):\n",
    "        x = Variable(T.rand(1, *in_shape))\n",
    "        o = net(x)\n",
    "        b = (-1, o.size(1), o.size(2), o.size(3))\n",
    "        return o.data.view(1, -1).size(1)\n",
    "\n",
    "    def forward(self, x):\n",
    "        latent = self.backbone(x)\n",
    "        return self.actor(latent), self.critic(latent)"
   ]
  },
  {
   "cell_type": "code",
   "execution_count": 0,
   "metadata": {
    "colab": {},
    "colab_type": "code",
    "id": "-oYUoRz4aQsm"
   },
   "outputs": [],
   "source": [
    "def ob_to_torch(x):\n",
    "    x = np.moveaxis(x, -1, 1)\n",
    "    x = T.from_numpy(x).float()\n",
    "    x = x.to(DEVICE)\n",
    "    return x\n",
    "\n",
    "def rollout_generator(env, policy):\n",
    "\n",
    "    ob = ob_to_torch(env.reset())\n",
    "    mb = {'obs':[], 'act':[], 'rwd':[], 'done':[], 'val':[]}\n",
    "    ep = {'l':[], 'r':[]}  # len & total reward of done eps \n",
    "    \n",
    "    for step in count(1):\n",
    "\n",
    "        # we compute gradients in the train loop\n",
    "        with T.no_grad():\n",
    "            logits, val = policy(ob)\n",
    "            dist = Categorical(logits=logits)\n",
    "            action = dist.sample()\n",
    "        \n",
    "        new_ob, rwd, done, info = env.step(action)\n",
    "        \n",
    "        # store transition\n",
    "        mb['obs'].append(ob)\n",
    "        mb['act'].append(action)\n",
    "        mb['rwd'].append(T.from_numpy(rwd))\n",
    "        mb['val'].append(val.view(-1))\n",
    "        mb['done'].append(T.from_numpy(done))\n",
    "        for t in info:\n",
    "            if t.get('episode'):\n",
    "                ep['l'].append(t['episode']['l'])\n",
    "                ep['r'].append(t['episode']['r'])\n",
    "\n",
    "        ob = ob_to_torch(new_ob)\n",
    "\n",
    "        if step % ROLLOUT_LENGTH != 0:\n",
    "            continue\n",
    "\n",
    "        ########################################################\n",
    "        ###         Flatten rollout & assign credit          ###\n",
    "        ########################################################\n",
    "        ### Credit is bootstrapped from our critic (value    ###\n",
    "        ### function) if the episode is not terminal. This   ###\n",
    "        ### bootstrapped credit comes from the estimated     ###\n",
    "        ### value of the *next* state, making it TD(0).      ###\n",
    "        ########################################################\n",
    "\n",
    "        for k in mb.keys():\n",
    "            mb[k] = T.stack(mb[k]).to(DEVICE)\n",
    "\n",
    "        # bootstrap from value function - TD(0)\n",
    "        with T.no_grad():\n",
    "            last_val = policy(ob)[1].view(-1) * ~mb['done'][-1]\n",
    "            mb['rwd'][-1] += GAMMA * last_val\n",
    "\n",
    "        # discount (bootstrapped) rewards\n",
    "        for i in reversed(range(ROLLOUT_LENGTH-1)):\n",
    "            mb['rwd'][i] += GAMMA * mb['rwd'][i+1] * ~mb['done'][i]\n",
    "\n",
    "        # flatten to (NENV*ROLLOUT_LENGTH, ...)\n",
    "        for k in mb.keys():\n",
    "            s = mb[k].size()\n",
    "            mb[k] = mb[k].view(STEPS_PER_ROLLOUT, *s[2:])\n",
    "        \n",
    "        yield mb, ep\n",
    "        mb = {'obs':[], 'act':[], 'rwd':[], 'done':[], 'val':[]}\n",
    "        ep = {'l':[], 'r':[]}"
   ]
  },
  {
   "cell_type": "code",
   "execution_count": 0,
   "metadata": {
    "colab": {},
    "colab_type": "code",
    "id": "eBFMXwR-aPu1"
   },
   "outputs": [],
   "source": [
    "def save_checkpoint(checkpoint_id):\n",
    "    checkpoint = {\n",
    "        'env': env,\n",
    "        'ac': ac.state_dict(),\n",
    "        'ac_opt': ac_optimizer.state_dict(),\n",
    "        'logger': logger\n",
    "    }\n",
    "    X = str(checkpoint_id)\n",
    "    pkl.dump(checkpoint, open(SAVE_PATH+X+'.'+ENV_NAME+'.checkpoint', 'wb'))"
   ]
  },
  {
   "cell_type": "code",
   "execution_count": 0,
   "metadata": {
    "colab": {},
    "colab_type": "code",
    "id": "kmZuSZk3aNmi"
   },
   "outputs": [],
   "source": [
    "def load_checkpoint(file_name):\n",
    "    checkpoint = pkl.load(open(file_name, 'rb'))\n",
    "    \n",
    "    venv = make_atari_env(ENV_NAME, num_env=NENV, seed=SEED)\n",
    "    venv = VecFrameStack(venv, n_stack=4)\n",
    "    env = checkpoint['env']\n",
    "    env.set_venv(venv)\n",
    "    in_dim = env.observation_space.shape\n",
    "    policy_dim = env.action_space.n\n",
    "\n",
    "    ac = AC(in_dim, policy_dim).to(DEVICE)\n",
    "    ac.load_state_dict(checkpoint['ac'])\n",
    "    ac_optimizer = Adam(ac.parameters(), 7e-4, eps=1e-5)\n",
    "    ac_optimizer.load_state_dict(checkpoint['ac_opt'])\n",
    "\n",
    "    logger = checkpoint['logger']\n",
    "\n",
    "    return env, ac, ac_optimizer, logger"
   ]
  },
  {
   "cell_type": "code",
   "execution_count": 0,
   "metadata": {
    "colab": {},
    "colab_type": "code",
    "id": "S8e0ClPoe3mq"
   },
   "outputs": [],
   "source": []
  },
  {
   "cell_type": "code",
   "execution_count": 0,
   "metadata": {
    "colab": {},
    "colab_type": "code",
    "id": "HllpcNHN_eFa"
   },
   "outputs": [],
   "source": [
    "# env, ac, ac_optimizer, logger = new_run()\n",
    "env, ac, ac_optimizer, logger = load_checkpoint(SAVE_PATH+'FINAL.MsPacmanNoFrameskip-v4.checkpoint')"
   ]
  },
  {
   "cell_type": "code",
   "execution_count": 0,
   "metadata": {
    "colab": {},
    "colab_type": "code",
    "id": "50KIcAvCz58G"
   },
   "outputs": [],
   "source": [
    "import matplotlib.pyplot as plt\n",
    "import seaborn as sns\n",
    "import pandas as pd\n",
    "sns.set()"
   ]
  },
  {
   "cell_type": "code",
   "execution_count": 0,
   "metadata": {
    "colab": {
     "base_uri": "https://localhost:8080/",
     "height": 503
    },
    "colab_type": "code",
    "id": "8ApdohdAcpkE",
    "outputId": "bae3a4b1-2d43-416e-f690-5339292db3e5"
   },
   "outputs": [
    {
     "data": {
      "image/png": "[encoded data removed]",
      "text/plain": [
       "<Figure size 576x576 with 4 Axes>"
      ]
     },
     "metadata": {
      "tags": []
     },
     "output_type": "display_data"
    }
   ],
   "source": [
    "fig_all, ax_all = plt.subplots(2,2, figsize=(8,8))\n",
    "\n",
    "## REWARD \n",
    "df = pd.DataFrame(logger.log['ep_r'], columns =['Frames', 'Iters', 'rwd'])\n",
    "sma_y = df['rwd'].rolling(500).mean()\n",
    "std_y = df['rwd'].rolling(500).std()\n",
    "\n",
    "ax_all[0][0].set_ylabel('Reward')\n",
    "clrs = sns.color_palette(\"husl\", 8)\n",
    "\n",
    "# fill standard deviation\n",
    "ax_all[0][0].plot(df['Frames'], sma_y, label='Episode Reward', c=clrs[0])\n",
    "ax_all[0][0].fill_between(df['Frames'], sma_y-std_y,  sma_y+std_y, \n",
    "                alpha=0.3, facecolor=clrs[0])\n",
    "\n",
    "# make x axis nice\n",
    "ax_all[0][0].set_xticklabels('')\n",
    "\n",
    "\n",
    "## LENGTH \n",
    "df = pd.DataFrame(logger.log['ep_l'], columns =['Frames', 'Iters', 'Len'])\n",
    "sma_y = df['Len'].rolling(500).mean()\n",
    "std_y = df['Len'].rolling(500).std()\n",
    "\n",
    "ax_all[0][1].set_ylabel('Length')\n",
    "ax_all[0][1].yaxis.tick_right()\n",
    "clrs = sns.color_palette(\"husl\", 8)\n",
    "\n",
    "# fill standard deviation\n",
    "ax_all[0][1].plot(df['Frames'], sma_y, label='Episode Length', c=clrs[0])\n",
    "ax_all[0][1].fill_between(df['Frames'], sma_y-std_y,  sma_y+std_y, \n",
    "                alpha=0.3, facecolor=clrs[0])\n",
    "\n",
    "# make x axis nice\n",
    "ax_all[0][1].set_xticklabels('')\n",
    "\n",
    "\n",
    "## ENTROPY \n",
    "df = pd.DataFrame(logger.log['ent'], columns =['Frames', 'Iters', 'ent'])\n",
    "sma_y = df['ent'].rolling(500).mean()\n",
    "std_y = df['ent'].rolling(500).std()\n",
    "\n",
    "ax_all[1][0].set_xlabel('Frames')\n",
    "ax_all[1][0].set_ylabel('Entropy')\n",
    "clrs = sns.color_palette(\"husl\", 8)\n",
    "\n",
    "# fill standard deviation\n",
    "ax_all[1][0].plot(df['Frames'], sma_y, label='Entropy', c=clrs[0])\n",
    "ax_all[1][0].fill_between(df['Frames'], sma_y-std_y,  sma_y+std_y, \n",
    "                alpha=0.3, facecolor=clrs[0])\n",
    "\n",
    "# make x axis nice\n",
    "xlabels = [f'{int(x)}M' for x in ax_all[1][0].get_xticks()/1e6]\n",
    "ax_all[1][0].set_xticklabels(xlabels)\n",
    "\n",
    "\n",
    "## LOSS \n",
    "df = pd.DataFrame(logger.log['loss'], columns =['Frames', 'Iters', 'Loss'])\n",
    "sma_y = df['Loss'].rolling(500).mean()\n",
    "std_y = df['Loss'].rolling(500).std()\n",
    "\n",
    "ax_all[1][1].set_xlabel('Frames')\n",
    "ax_all[1][1].set_ylabel('Loss')\n",
    "ax_all[1][1].yaxis.tick_right()\n",
    "clrs = sns.color_palette(\"husl\", 8)\n",
    "\n",
    "# fill standard deviation\n",
    "ax_all[1][1].plot(df['Frames'], sma_y, label='Loss', c=clrs[0])\n",
    "ax_all[1][1].fill_between(df['Frames'], sma_y-std_y,  sma_y+std_y, \n",
    "                alpha=0.3, facecolor=clrs[0])\n",
    "\n",
    "# make x axis nice\n",
    "xlabels = [f'{int(x)}M' for x in ax_all[1][1].get_xticks()/1e6]\n",
    "ax_all[1][1].set_xticklabels(xlabels)\n",
    "\n",
    "plt.savefig(SAVE_PATH+ENV_NAME+'_plot_thesis.png', \n",
    "            dpi=300, pad_inches=0, bbox_inches = 'tight')\n",
    "\n",
    "plt.show()"
   ]
  },
  {
   "cell_type": "code",
   "execution_count": 0,
   "metadata": {
    "colab": {},
    "colab_type": "code",
    "id": "eztNm50odE9n"
   },
   "outputs": [],
   "source": []
  },
  {
   "cell_type": "code",
   "execution_count": 0,
   "metadata": {
    "colab": {},
    "colab_type": "code",
    "id": "sWvCD53L3_j4"
   },
   "outputs": [],
   "source": [
    "def plot_log(log, ylabel):\n",
    "    # compute rolling avg and std\n",
    "    df = pd.DataFrame(log, columns =['Frames', 'Iters', ylabel])\n",
    "    sma_y = df[ylabel].rolling(500).mean()\n",
    "    std_y = df[ylabel].rolling(500).std()\n",
    "    \n",
    "    # plot with seaborn\n",
    "    fig, ax = plt.subplots(figsize=(4,4))\n",
    "    ax.set_xlabel('Frames')\n",
    "    ax.set_ylabel(ylabel)\n",
    "    clrs = sns.color_palette(\"husl\", 8)\n",
    "\n",
    "    # fill standard deviation\n",
    "    ax.plot(df['Frames'], sma_y, label=ylabel, c=clrs[0])\n",
    "    ax.fill_between(df['Frames'], sma_y-std_y,  sma_y+std_y, \n",
    "                    alpha=0.3, facecolor=clrs[0])\n",
    "    \n",
    "    # make x axis nice\n",
    "    xlabels = [f'{int(x)}M' for x in ax.get_xticks()/1e6]\n",
    "    ax.set_xticklabels(xlabels)\n",
    "\n",
    "    # ax.legend(loc='upper left')\n",
    "    # plt.savefig(SAVE_PATH+ENV_NAME+'_'+ylabel+'_thesis.png', \n",
    "                # dpi=300, pad_inches=0)\n",
    "    return ax\n",
    "\n",
    "# plot_log(logger.log['ep_r'], 'Reward')\n",
    "# plot_log(logger.log['ep_l'], 'Length')\n",
    "# plot_log(logger.log['loss'], 'Loss')\n",
    "# plot_log(logger.log['ent'], 'Entropy')"
   ]
  },
  {
   "cell_type": "code",
   "execution_count": 0,
   "metadata": {
    "colab": {},
    "colab_type": "code",
    "id": "5FjLcvS0Mn9O"
   },
   "outputs": [],
   "source": []
  }
 ],
 "metadata": {
  "accelerator": "GPU",
  "colab": {
   "collapsed_sections": [],
   "name": "Result Plotting.ipynb",
   "provenance": []
  },
  "kernelspec": {
   "display_name": "Python 3",
   "language": "python",
   "name": "python3"
  },
  "language_info": {
   "codemirror_mode": {
    "name": "ipython",
    "version": 3
   },
   "file_extension": ".py",
   "mimetype": "text/x-python",
   "name": "python",
   "nbconvert_exporter": "python",
   "pygments_lexer": "ipython3",
   "version": "3.6.5"
  }
 },
 "nbformat": 4,
 "nbformat_minor": 1
}
